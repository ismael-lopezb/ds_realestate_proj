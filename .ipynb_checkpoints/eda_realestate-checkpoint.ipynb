{
 "cells": [
  {
   "cell_type": "code",
   "execution_count": 2,
   "metadata": {
    "executionInfo": {
     "elapsed": 1406,
     "status": "ok",
     "timestamp": 1611955494262,
     "user": {
      "displayName": "Ismael Leodan López Bahena",
      "photoUrl": "https://lh3.googleusercontent.com/a-/AOh14Ggjvc2L-1mJWtumEdHg5nmPiHVTrLIZgm7xS5UE-g=s64",
      "userId": "11763281503201720610"
     },
     "user_tz": 360
    },
    "id": "5Kabmzs6BZLm"
   },
   "outputs": [],
   "source": [
    "#import the usefull libreries\n",
    "import pandas as pd\n",
    "#import matplotlib.pyplot as plt\n",
    "#import seaborn as sns"
   ]
  },
  {
   "cell_type": "code",
   "execution_count": 3,
   "metadata": {},
   "outputs": [],
   "source": [
    "df = pd.read_csv('inmuebles24-ciudad-de-mexico-venta-2022-07-20.csv')"
   ]
  },
  {
   "cell_type": "code",
   "execution_count": 4,
   "metadata": {},
   "outputs": [
    {
     "data": {
      "text/html": [
       "<div>\n",
       "<style scoped>\n",
       "    .dataframe tbody tr th:only-of-type {\n",
       "        vertical-align: middle;\n",
       "    }\n",
       "\n",
       "    .dataframe tbody tr th {\n",
       "        vertical-align: top;\n",
       "    }\n",
       "\n",
       "    .dataframe thead th {\n",
       "        text-align: right;\n",
       "    }\n",
       "</style>\n",
       "<table border=\"1\" class=\"dataframe\">\n",
       "  <thead>\n",
       "    <tr style=\"text-align: right;\">\n",
       "      <th></th>\n",
       "      <th>name</th>\n",
       "      <th>location</th>\n",
       "      <th>description</th>\n",
       "      <th>link</th>\n",
       "      <th>price</th>\n",
       "      <th>operation</th>\n",
       "      <th>rooms</th>\n",
       "      <th>bathrooms</th>\n",
       "      <th>construction (m2)</th>\n",
       "      <th>terrain (m2)</th>\n",
       "      <th>estacionamientos</th>\n",
       "      <th>toilets</th>\n",
       "      <th>age</th>\n",
       "      <th>Características generales</th>\n",
       "      <th>Servicios</th>\n",
       "      <th>Amenidades</th>\n",
       "      <th>Exteriores</th>\n",
       "      <th>geolocation</th>\n",
       "    </tr>\n",
       "  </thead>\n",
       "  <tbody>\n",
       "    <tr>\n",
       "      <th>0</th>\n",
       "      <td>Departamento en Venta en Roma Norte</td>\n",
       "      <td>Roma, Cuauhtémoc</td>\n",
       "      <td>Hermosos departamentos desde 75 mts2 y hasta 1...</td>\n",
       "      <td>/propiedades/departamento-en-venta-en-roma-nor...</td>\n",
       "      <td>MN 4,319,200</td>\n",
       "      <td>venta</td>\n",
       "      <td>2.0</td>\n",
       "      <td>2.0</td>\n",
       "      <td>75.0</td>\n",
       "      <td>NaN</td>\n",
       "      <td>1.0</td>\n",
       "      <td>NaN</td>\n",
       "      <td>0.0</td>\n",
       "      <td>{\"56\":{\"featureId\":\"56\",\"label\":\"Cuartos de se...</td>\n",
       "      <td>{\"45\":{\"featureId\":\"45\",\"label\":\"Seguridad pri...</td>\n",
       "      <td>{\"140\":{\"featureId\":\"140\",\"label\":\"Salón de us...</td>\n",
       "      <td>{\"5\":{\"featureId\":\"5\",\"label\":\"Asador\",\"measur...</td>\n",
       "      <td>{\"geolocation\":{\"latitude\":19.410924700000000,...</td>\n",
       "    </tr>\n",
       "    <tr>\n",
       "      <th>1</th>\n",
       "      <td>Excelente Departamento a La Venta en Reforma L...</td>\n",
       "      <td>Bosques de las Lomas, Cuajimalpa de Morelos</td>\n",
       "      <td>Excelente departamento de 420 metros a la vent...</td>\n",
       "      <td>/propiedades/excelente-departamento-a-la-venta...</td>\n",
       "      <td>MN 22,400,000</td>\n",
       "      <td>venta</td>\n",
       "      <td>4.0</td>\n",
       "      <td>4.0</td>\n",
       "      <td>420.0</td>\n",
       "      <td>420.0</td>\n",
       "      <td>4.0</td>\n",
       "      <td>1.0</td>\n",
       "      <td>NaN</td>\n",
       "      <td>{\"132\":{\"featureId\":\"132\",\"label\":\"Jacuzzi\",\"m...</td>\n",
       "      <td>{\"45\":{\"featureId\":\"45\",\"label\":\"Seguridad pri...</td>\n",
       "      <td>{\"9\":{\"featureId\":\"9\",\"label\":\"Bodega(s)\",\"mea...</td>\n",
       "      <td>{\"5\":{\"featureId\":\"5\",\"label\":\"Asador\",\"measur...</td>\n",
       "      <td>{\"geolocation\":{\"latitude\":19.390416200000000,...</td>\n",
       "    </tr>\n",
       "    <tr>\n",
       "      <th>2</th>\n",
       "      <td>Pent House con Roof Privado a un Precio Excelente</td>\n",
       "      <td>Nápoles, Benito Juárez</td>\n",
       "      <td>Edificio de solo 9 departamentos en una de las...</td>\n",
       "      <td>/propiedades/pent-house-con-roof-privado-a-un-...</td>\n",
       "      <td>MN 6,125,000</td>\n",
       "      <td>venta</td>\n",
       "      <td>2.0</td>\n",
       "      <td>NaN</td>\n",
       "      <td>136.0</td>\n",
       "      <td>66.0</td>\n",
       "      <td>2.0</td>\n",
       "      <td>NaN</td>\n",
       "      <td>0.0</td>\n",
       "      <td>{\"177\":{\"featureId\":\"177\",\"label\":\"Mascotas\",\"...</td>\n",
       "      <td>{\"45\":{\"featureId\":\"45\",\"label\":\"Seguridad pri...</td>\n",
       "      <td>{\"63\":{\"featureId\":\"63\",\"label\":\"Closets\",\"mea...</td>\n",
       "      <td>{\"5\":{\"featureId\":\"5\",\"label\":\"Asador\",\"measur...</td>\n",
       "      <td>{\"geolocation\":{\"latitude\":19.388046900000000,...</td>\n",
       "    </tr>\n",
       "    <tr>\n",
       "      <th>3</th>\n",
       "      <td>Departamento Venta, Colonia Escandón</td>\n",
       "      <td>Escandón I Sección, Miguel Hidalgo</td>\n",
       "      <td>Departamento acogedor en primer piso de 3 reca...</td>\n",
       "      <td>/propiedades/departamento-venta-colonia-escand...</td>\n",
       "      <td>MN 2,890,000</td>\n",
       "      <td>venta</td>\n",
       "      <td>3.0</td>\n",
       "      <td>NaN</td>\n",
       "      <td>70.0</td>\n",
       "      <td>70.0</td>\n",
       "      <td>1.0</td>\n",
       "      <td>NaN</td>\n",
       "      <td>NaN</td>\n",
       "      <td>{\"12\":{\"featureId\":\"12\",\"label\":\"Caseta de gua...</td>\n",
       "      <td>{\"45\":{\"featureId\":\"45\",\"label\":\"Seguridad pri...</td>\n",
       "      <td>{\"18\":{\"featureId\":\"18\",\"label\":\"Estudio\",\"mea...</td>\n",
       "      <td>NaN</td>\n",
       "      <td>{\"geolocation\":{\"latitude\":19.403487800000000,...</td>\n",
       "    </tr>\n",
       "    <tr>\n",
       "      <th>4</th>\n",
       "      <td>Se Vende Departamento en Condesa</td>\n",
       "      <td>Condesa, Cuauhtémoc</td>\n",
       "      <td>Único en sus acabados, excelente oportunidad d...</td>\n",
       "      <td>/propiedades/se-vende-departamento-en-condesa-...</td>\n",
       "      <td>MN 10,500,000</td>\n",
       "      <td>venta</td>\n",
       "      <td>2.0</td>\n",
       "      <td>2.0</td>\n",
       "      <td>128.0</td>\n",
       "      <td>133.0</td>\n",
       "      <td>2.0</td>\n",
       "      <td>NaN</td>\n",
       "      <td>NaN</td>\n",
       "      <td>{\"201\":{\"featureId\":\"201\",\"label\":\"Estado de c...</td>\n",
       "      <td>NaN</td>\n",
       "      <td>NaN</td>\n",
       "      <td>NaN</td>\n",
       "      <td>{\"geolocation\":{\"latitude\":19.415425524353790,...</td>\n",
       "    </tr>\n",
       "    <tr>\n",
       "      <th>...</th>\n",
       "      <td>...</td>\n",
       "      <td>...</td>\n",
       "      <td>...</td>\n",
       "      <td>...</td>\n",
       "      <td>...</td>\n",
       "      <td>...</td>\n",
       "      <td>...</td>\n",
       "      <td>...</td>\n",
       "      <td>...</td>\n",
       "      <td>...</td>\n",
       "      <td>...</td>\n",
       "      <td>...</td>\n",
       "      <td>...</td>\n",
       "      <td>...</td>\n",
       "      <td>...</td>\n",
       "      <td>...</td>\n",
       "      <td>...</td>\n",
       "      <td>...</td>\n",
       "    </tr>\n",
       "    <tr>\n",
       "      <th>19634</th>\n",
       "      <td>Depto. Triple a Col. Niños Heroes Dechapultepe...</td>\n",
       "      <td>Niños Héroes, Benito Juárez</td>\n",
       "      <td>Hermoso departamento! En zona centrica, bancos...</td>\n",
       "      <td>/propiedades/depto.-triple-a-col.-ninos-heroes...</td>\n",
       "      <td>MN 1,370,000</td>\n",
       "      <td>venta</td>\n",
       "      <td>3.0</td>\n",
       "      <td>NaN</td>\n",
       "      <td>62.0</td>\n",
       "      <td>62.0</td>\n",
       "      <td>1.0</td>\n",
       "      <td>NaN</td>\n",
       "      <td>NaN</td>\n",
       "      <td>{\"15\":{\"featureId\":\"15\",\"label\":\"Chimenea\",\"me...</td>\n",
       "      <td>NaN</td>\n",
       "      <td>NaN</td>\n",
       "      <td>NaN</td>\n",
       "      <td>{\"geolocation\":{\"latitude\":19.387619300000000,...</td>\n",
       "    </tr>\n",
       "    <tr>\n",
       "      <th>19635</th>\n",
       "      <td>Coapa</td>\n",
       "      <td>Granjas Coapa, Tlalpan</td>\n",
       "      <td>Oportunidad de inversion en una de las mejores...</td>\n",
       "      <td>/propiedades/coapa-59817885.html</td>\n",
       "      <td>MN 1,000,000</td>\n",
       "      <td>venta</td>\n",
       "      <td>NaN</td>\n",
       "      <td>NaN</td>\n",
       "      <td>75.0</td>\n",
       "      <td>NaN</td>\n",
       "      <td>NaN</td>\n",
       "      <td>NaN</td>\n",
       "      <td>NaN</td>\n",
       "      <td>NaN</td>\n",
       "      <td>NaN</td>\n",
       "      <td>NaN</td>\n",
       "      <td>NaN</td>\n",
       "      <td>{\"geolocation\":{\"latitude\":19.294143800000000,...</td>\n",
       "    </tr>\n",
       "    <tr>\n",
       "      <th>19636</th>\n",
       "      <td>Venustiano Carranza</td>\n",
       "      <td>Morelos, Venustiano Carranza</td>\n",
       "      <td>Oportunidad de inversion en una de las mejores...</td>\n",
       "      <td>/propiedades/venustiano-carranza-59818874.html</td>\n",
       "      <td>MN 1,035,000</td>\n",
       "      <td>venta</td>\n",
       "      <td>NaN</td>\n",
       "      <td>NaN</td>\n",
       "      <td>73.0</td>\n",
       "      <td>NaN</td>\n",
       "      <td>NaN</td>\n",
       "      <td>NaN</td>\n",
       "      <td>NaN</td>\n",
       "      <td>NaN</td>\n",
       "      <td>NaN</td>\n",
       "      <td>NaN</td>\n",
       "      <td>NaN</td>\n",
       "      <td>{\"geolocation\":{\"latitude\":19.439036600000000,...</td>\n",
       "    </tr>\n",
       "    <tr>\n",
       "      <th>19637</th>\n",
       "      <td>Es Para Invertir! Departamento en Veronica Anz...</td>\n",
       "      <td>Verónica Anzures, Miguel Hidalgo</td>\n",
       "      <td>**imágenes ilustrativas**! aprovecha esta opor...</td>\n",
       "      <td>/propiedades/es-para-invertir!-departamento-en...</td>\n",
       "      <td>MN 800,098</td>\n",
       "      <td>venta</td>\n",
       "      <td>2.0</td>\n",
       "      <td>2.0</td>\n",
       "      <td>80.0</td>\n",
       "      <td>80.0</td>\n",
       "      <td>1.0</td>\n",
       "      <td>NaN</td>\n",
       "      <td>NaN</td>\n",
       "      <td>{\"12\":{\"featureId\":\"12\",\"label\":\"Caseta de gua...</td>\n",
       "      <td>{\"22\":{\"featureId\":\"22\",\"label\":\"Internet/Wifi...</td>\n",
       "      <td>{\"63\":{\"featureId\":\"63\",\"label\":\"Closets\",\"mea...</td>\n",
       "      <td>{\"5\":{\"featureId\":\"5\",\"label\":\"Asador\",\"measur...</td>\n",
       "      <td>{\"geolocation\":{\"latitude\":19.436476800000000,...</td>\n",
       "    </tr>\n",
       "    <tr>\n",
       "      <th>19638</th>\n",
       "      <td>Benito Juarez</td>\n",
       "      <td>Moderna, Benito Juárez</td>\n",
       "      <td>Oportunidad de inversion en una de las mejores...</td>\n",
       "      <td>/propiedades/benito-juarez-59819157.html</td>\n",
       "      <td>MN 1,040,000</td>\n",
       "      <td>venta</td>\n",
       "      <td>NaN</td>\n",
       "      <td>NaN</td>\n",
       "      <td>73.0</td>\n",
       "      <td>NaN</td>\n",
       "      <td>NaN</td>\n",
       "      <td>NaN</td>\n",
       "      <td>NaN</td>\n",
       "      <td>NaN</td>\n",
       "      <td>NaN</td>\n",
       "      <td>NaN</td>\n",
       "      <td>NaN</td>\n",
       "      <td>{\"geolocation\":{\"latitude\":19.392329000000000,...</td>\n",
       "    </tr>\n",
       "  </tbody>\n",
       "</table>\n",
       "<p>19639 rows × 18 columns</p>\n",
       "</div>"
      ],
      "text/plain": [
       "                                                    name  \\\n",
       "0                    Departamento en Venta en Roma Norte   \n",
       "1      Excelente Departamento a La Venta en Reforma L...   \n",
       "2      Pent House con Roof Privado a un Precio Excelente   \n",
       "3                   Departamento Venta, Colonia Escandón   \n",
       "4                       Se Vende Departamento en Condesa   \n",
       "...                                                  ...   \n",
       "19634  Depto. Triple a Col. Niños Heroes Dechapultepe...   \n",
       "19635                                              Coapa   \n",
       "19636                                Venustiano Carranza   \n",
       "19637  Es Para Invertir! Departamento en Veronica Anz...   \n",
       "19638                                      Benito Juarez   \n",
       "\n",
       "                                          location  \\\n",
       "0                                 Roma, Cuauhtémoc   \n",
       "1      Bosques de las Lomas, Cuajimalpa de Morelos   \n",
       "2                           Nápoles, Benito Juárez   \n",
       "3               Escandón I Sección, Miguel Hidalgo   \n",
       "4                              Condesa, Cuauhtémoc   \n",
       "...                                            ...   \n",
       "19634                  Niños Héroes, Benito Juárez   \n",
       "19635                       Granjas Coapa, Tlalpan   \n",
       "19636                 Morelos, Venustiano Carranza   \n",
       "19637             Verónica Anzures, Miguel Hidalgo   \n",
       "19638                       Moderna, Benito Juárez   \n",
       "\n",
       "                                             description  \\\n",
       "0      Hermosos departamentos desde 75 mts2 y hasta 1...   \n",
       "1      Excelente departamento de 420 metros a la vent...   \n",
       "2      Edificio de solo 9 departamentos en una de las...   \n",
       "3      Departamento acogedor en primer piso de 3 reca...   \n",
       "4      Único en sus acabados, excelente oportunidad d...   \n",
       "...                                                  ...   \n",
       "19634  Hermoso departamento! En zona centrica, bancos...   \n",
       "19635  Oportunidad de inversion en una de las mejores...   \n",
       "19636  Oportunidad de inversion en una de las mejores...   \n",
       "19637  **imágenes ilustrativas**! aprovecha esta opor...   \n",
       "19638  Oportunidad de inversion en una de las mejores...   \n",
       "\n",
       "                                                    link          price  \\\n",
       "0      /propiedades/departamento-en-venta-en-roma-nor...   MN 4,319,200   \n",
       "1      /propiedades/excelente-departamento-a-la-venta...  MN 22,400,000   \n",
       "2      /propiedades/pent-house-con-roof-privado-a-un-...   MN 6,125,000   \n",
       "3      /propiedades/departamento-venta-colonia-escand...   MN 2,890,000   \n",
       "4      /propiedades/se-vende-departamento-en-condesa-...  MN 10,500,000   \n",
       "...                                                  ...            ...   \n",
       "19634  /propiedades/depto.-triple-a-col.-ninos-heroes...   MN 1,370,000   \n",
       "19635                   /propiedades/coapa-59817885.html   MN 1,000,000   \n",
       "19636     /propiedades/venustiano-carranza-59818874.html   MN 1,035,000   \n",
       "19637  /propiedades/es-para-invertir!-departamento-en...     MN 800,098   \n",
       "19638           /propiedades/benito-juarez-59819157.html   MN 1,040,000   \n",
       "\n",
       "      operation  rooms  bathrooms  construction (m2)  terrain (m2)  \\\n",
       "0         venta    2.0        2.0               75.0           NaN   \n",
       "1         venta    4.0        4.0              420.0         420.0   \n",
       "2         venta    2.0        NaN              136.0          66.0   \n",
       "3         venta    3.0        NaN               70.0          70.0   \n",
       "4         venta    2.0        2.0              128.0         133.0   \n",
       "...         ...    ...        ...                ...           ...   \n",
       "19634     venta    3.0        NaN               62.0          62.0   \n",
       "19635     venta    NaN        NaN               75.0           NaN   \n",
       "19636     venta    NaN        NaN               73.0           NaN   \n",
       "19637     venta    2.0        2.0               80.0          80.0   \n",
       "19638     venta    NaN        NaN               73.0           NaN   \n",
       "\n",
       "       estacionamientos  toilets  age  \\\n",
       "0                   1.0      NaN  0.0   \n",
       "1                   4.0      1.0  NaN   \n",
       "2                   2.0      NaN  0.0   \n",
       "3                   1.0      NaN  NaN   \n",
       "4                   2.0      NaN  NaN   \n",
       "...                 ...      ...  ...   \n",
       "19634               1.0      NaN  NaN   \n",
       "19635               NaN      NaN  NaN   \n",
       "19636               NaN      NaN  NaN   \n",
       "19637               1.0      NaN  NaN   \n",
       "19638               NaN      NaN  NaN   \n",
       "\n",
       "                               Características generales  \\\n",
       "0      {\"56\":{\"featureId\":\"56\",\"label\":\"Cuartos de se...   \n",
       "1      {\"132\":{\"featureId\":\"132\",\"label\":\"Jacuzzi\",\"m...   \n",
       "2      {\"177\":{\"featureId\":\"177\",\"label\":\"Mascotas\",\"...   \n",
       "3      {\"12\":{\"featureId\":\"12\",\"label\":\"Caseta de gua...   \n",
       "4      {\"201\":{\"featureId\":\"201\",\"label\":\"Estado de c...   \n",
       "...                                                  ...   \n",
       "19634  {\"15\":{\"featureId\":\"15\",\"label\":\"Chimenea\",\"me...   \n",
       "19635                                                NaN   \n",
       "19636                                                NaN   \n",
       "19637  {\"12\":{\"featureId\":\"12\",\"label\":\"Caseta de gua...   \n",
       "19638                                                NaN   \n",
       "\n",
       "                                               Servicios  \\\n",
       "0      {\"45\":{\"featureId\":\"45\",\"label\":\"Seguridad pri...   \n",
       "1      {\"45\":{\"featureId\":\"45\",\"label\":\"Seguridad pri...   \n",
       "2      {\"45\":{\"featureId\":\"45\",\"label\":\"Seguridad pri...   \n",
       "3      {\"45\":{\"featureId\":\"45\",\"label\":\"Seguridad pri...   \n",
       "4                                                    NaN   \n",
       "...                                                  ...   \n",
       "19634                                                NaN   \n",
       "19635                                                NaN   \n",
       "19636                                                NaN   \n",
       "19637  {\"22\":{\"featureId\":\"22\",\"label\":\"Internet/Wifi...   \n",
       "19638                                                NaN   \n",
       "\n",
       "                                              Amenidades  \\\n",
       "0      {\"140\":{\"featureId\":\"140\",\"label\":\"Salón de us...   \n",
       "1      {\"9\":{\"featureId\":\"9\",\"label\":\"Bodega(s)\",\"mea...   \n",
       "2      {\"63\":{\"featureId\":\"63\",\"label\":\"Closets\",\"mea...   \n",
       "3      {\"18\":{\"featureId\":\"18\",\"label\":\"Estudio\",\"mea...   \n",
       "4                                                    NaN   \n",
       "...                                                  ...   \n",
       "19634                                                NaN   \n",
       "19635                                                NaN   \n",
       "19636                                                NaN   \n",
       "19637  {\"63\":{\"featureId\":\"63\",\"label\":\"Closets\",\"mea...   \n",
       "19638                                                NaN   \n",
       "\n",
       "                                              Exteriores  \\\n",
       "0      {\"5\":{\"featureId\":\"5\",\"label\":\"Asador\",\"measur...   \n",
       "1      {\"5\":{\"featureId\":\"5\",\"label\":\"Asador\",\"measur...   \n",
       "2      {\"5\":{\"featureId\":\"5\",\"label\":\"Asador\",\"measur...   \n",
       "3                                                    NaN   \n",
       "4                                                    NaN   \n",
       "...                                                  ...   \n",
       "19634                                                NaN   \n",
       "19635                                                NaN   \n",
       "19636                                                NaN   \n",
       "19637  {\"5\":{\"featureId\":\"5\",\"label\":\"Asador\",\"measur...   \n",
       "19638                                                NaN   \n",
       "\n",
       "                                             geolocation  \n",
       "0      {\"geolocation\":{\"latitude\":19.410924700000000,...  \n",
       "1      {\"geolocation\":{\"latitude\":19.390416200000000,...  \n",
       "2      {\"geolocation\":{\"latitude\":19.388046900000000,...  \n",
       "3      {\"geolocation\":{\"latitude\":19.403487800000000,...  \n",
       "4      {\"geolocation\":{\"latitude\":19.415425524353790,...  \n",
       "...                                                  ...  \n",
       "19634  {\"geolocation\":{\"latitude\":19.387619300000000,...  \n",
       "19635  {\"geolocation\":{\"latitude\":19.294143800000000,...  \n",
       "19636  {\"geolocation\":{\"latitude\":19.439036600000000,...  \n",
       "19637  {\"geolocation\":{\"latitude\":19.436476800000000,...  \n",
       "19638  {\"geolocation\":{\"latitude\":19.392329000000000,...  \n",
       "\n",
       "[19639 rows x 18 columns]"
      ]
     },
     "execution_count": 4,
     "metadata": {},
     "output_type": "execute_result"
    }
   ],
   "source": [
    "df"
   ]
  },
  {
   "cell_type": "code",
   "execution_count": 3,
   "metadata": {
    "colab": {
     "base_uri": "https://localhost:8080/",
     "height": 392
    },
    "executionInfo": {
     "elapsed": 638,
     "status": "error",
     "timestamp": 1611955495617,
     "user": {
      "displayName": "Ismael Leodan López Bahena",
      "photoUrl": "https://lh3.googleusercontent.com/a-/AOh14Ggjvc2L-1mJWtumEdHg5nmPiHVTrLIZgm7xS5UE-g=s64",
      "userId": "11763281503201720610"
     },
     "user_tz": 360
    },
    "id": "CMyah43vBZLo",
    "outputId": "f9ecb8b5-1f7d-48d7-e950-1f432ec4deed"
   },
   "outputs": [],
   "source": [
    "#export the data cleaned\n",
    "df = pd.read_csv('inmuebles24-data-cleaned.csv')"
   ]
  },
  {
   "cell_type": "code",
   "execution_count": 4,
   "metadata": {
    "id": "gqRgfCFVBZLp"
   },
   "outputs": [],
   "source": [
    "#options for diplay max columns\n",
    "#pd.set_option('display.max_rows',df.shape[0]+1)\n",
    "pd.set_option('display.max_rows',20)"
   ]
  },
  {
   "cell_type": "code",
   "execution_count": 5,
   "metadata": {
    "id": "T4SEzVgBBZLp",
    "outputId": "b6cb04d6-8f1c-4dd0-9074-31bc58c9aaab"
   },
   "outputs": [
    {
     "data": {
      "text/html": [
       "<div>\n",
       "<style scoped>\n",
       "    .dataframe tbody tr th:only-of-type {\n",
       "        vertical-align: middle;\n",
       "    }\n",
       "\n",
       "    .dataframe tbody tr th {\n",
       "        vertical-align: top;\n",
       "    }\n",
       "\n",
       "    .dataframe thead th {\n",
       "        text-align: right;\n",
       "    }\n",
       "</style>\n",
       "<table border=\"1\" class=\"dataframe\">\n",
       "  <thead>\n",
       "    <tr style=\"text-align: right;\">\n",
       "      <th></th>\n",
       "      <th>name</th>\n",
       "      <th>location</th>\n",
       "      <th>link</th>\n",
       "      <th>rooms</th>\n",
       "      <th>bathrooms</th>\n",
       "      <th>construction (m2)</th>\n",
       "      <th>terrain (m2)</th>\n",
       "      <th>divisa</th>\n",
       "      <th>price MP</th>\n",
       "      <th>Delegacion</th>\n",
       "      <th>colonia</th>\n",
       "      <th>gym</th>\n",
       "      <th>pool</th>\n",
       "      <th>pet</th>\n",
       "      <th>garage</th>\n",
       "      <th>elevador</th>\n",
       "      <th>terrace</th>\n",
       "      <th>garden</th>\n",
       "    </tr>\n",
       "  </thead>\n",
       "  <tbody>\n",
       "    <tr>\n",
       "      <th>0</th>\n",
       "      <td>Sierra Gorda, Lomas de Chapultepec</td>\n",
       "      <td>Calle Sierra gorda, Lomas de Chapultepec, Migu...</td>\n",
       "      <td>/propiedades/sierra-gorda-lomas-de-chapultepec...</td>\n",
       "      <td>2.5</td>\n",
       "      <td>2.0</td>\n",
       "      <td>282.0</td>\n",
       "      <td>416.5</td>\n",
       "      <td>1</td>\n",
       "      <td>25.000000</td>\n",
       "      <td>Miguel Hidalgo</td>\n",
       "      <td>Lomas de Chapultepec</td>\n",
       "      <td>0</td>\n",
       "      <td>0</td>\n",
       "      <td>0</td>\n",
       "      <td>0</td>\n",
       "      <td>0</td>\n",
       "      <td>0</td>\n",
       "      <td>1</td>\n",
       "    </tr>\n",
       "    <tr>\n",
       "      <th>1</th>\n",
       "      <td>Enquentro Residencial Insurgentes Mixcoac</td>\n",
       "      <td>Patriotismo 883, Insurgentes Mixcoac, Benito J...</td>\n",
       "      <td>/propiedades/enquentro-residencial-insurgentes...</td>\n",
       "      <td>2.5</td>\n",
       "      <td>2.0</td>\n",
       "      <td>140.5</td>\n",
       "      <td>140.5</td>\n",
       "      <td>1</td>\n",
       "      <td>5.523587</td>\n",
       "      <td>Benito Juárez</td>\n",
       "      <td>Insurgentes Mixcoac</td>\n",
       "      <td>1</td>\n",
       "      <td>1</td>\n",
       "      <td>1</td>\n",
       "      <td>1</td>\n",
       "      <td>1</td>\n",
       "      <td>1</td>\n",
       "      <td>1</td>\n",
       "    </tr>\n",
       "    <tr>\n",
       "      <th>2</th>\n",
       "      <td>Sky Tower Lindavista</td>\n",
       "      <td>Av. Insurgentes Norte. 1346, Lindavista,  Ciud...</td>\n",
       "      <td>/propiedades/sky-tower-lindavista-54456938.html</td>\n",
       "      <td>2.0</td>\n",
       "      <td>2.0</td>\n",
       "      <td>79.5</td>\n",
       "      <td>122.0</td>\n",
       "      <td>1</td>\n",
       "      <td>3.210000</td>\n",
       "      <td>Gustavo A. Madero</td>\n",
       "      <td>Lindavista</td>\n",
       "      <td>1</td>\n",
       "      <td>0</td>\n",
       "      <td>0</td>\n",
       "      <td>1</td>\n",
       "      <td>0</td>\n",
       "      <td>0</td>\n",
       "      <td>0</td>\n",
       "    </tr>\n",
       "    <tr>\n",
       "      <th>3</th>\n",
       "      <td>Único Coyocán</td>\n",
       "      <td>Av. Popocatepetl 164,, Narvarte, Benito Juárez</td>\n",
       "      <td>/propiedades/unico-coyocan-52835008.html</td>\n",
       "      <td>2.0</td>\n",
       "      <td>2.0</td>\n",
       "      <td>107.5</td>\n",
       "      <td>107.5</td>\n",
       "      <td>1</td>\n",
       "      <td>3.472000</td>\n",
       "      <td>Benito Juárez</td>\n",
       "      <td>Narvarte</td>\n",
       "      <td>0</td>\n",
       "      <td>0</td>\n",
       "      <td>1</td>\n",
       "      <td>0</td>\n",
       "      <td>0</td>\n",
       "      <td>1</td>\n",
       "      <td>1</td>\n",
       "    </tr>\n",
       "    <tr>\n",
       "      <th>4</th>\n",
       "      <td>Departamentos Icon Beyond Gdc</td>\n",
       "      <td>Blvd. Adolfo López Mateos 1977, San Angel, Alv...</td>\n",
       "      <td>/propiedades/departamentos-icon-beyond-gdc-541...</td>\n",
       "      <td>2.0</td>\n",
       "      <td>2.0</td>\n",
       "      <td>129.0</td>\n",
       "      <td>129.0</td>\n",
       "      <td>1</td>\n",
       "      <td>5.045115</td>\n",
       "      <td>Alvaro Obregón</td>\n",
       "      <td>San Angel</td>\n",
       "      <td>0</td>\n",
       "      <td>0</td>\n",
       "      <td>0</td>\n",
       "      <td>0</td>\n",
       "      <td>0</td>\n",
       "      <td>0</td>\n",
       "      <td>0</td>\n",
       "    </tr>\n",
       "  </tbody>\n",
       "</table>\n",
       "</div>"
      ],
      "text/plain": [
       "                                        name  \\\n",
       "0         Sierra Gorda, Lomas de Chapultepec   \n",
       "1  Enquentro Residencial Insurgentes Mixcoac   \n",
       "2                       Sky Tower Lindavista   \n",
       "3                              Único Coyocán   \n",
       "4              Departamentos Icon Beyond Gdc   \n",
       "\n",
       "                                            location  \\\n",
       "0  Calle Sierra gorda, Lomas de Chapultepec, Migu...   \n",
       "1  Patriotismo 883, Insurgentes Mixcoac, Benito J...   \n",
       "2  Av. Insurgentes Norte. 1346, Lindavista,  Ciud...   \n",
       "3     Av. Popocatepetl 164,, Narvarte, Benito Juárez   \n",
       "4  Blvd. Adolfo López Mateos 1977, San Angel, Alv...   \n",
       "\n",
       "                                                link  rooms  bathrooms  \\\n",
       "0  /propiedades/sierra-gorda-lomas-de-chapultepec...    2.5        2.0   \n",
       "1  /propiedades/enquentro-residencial-insurgentes...    2.5        2.0   \n",
       "2    /propiedades/sky-tower-lindavista-54456938.html    2.0        2.0   \n",
       "3           /propiedades/unico-coyocan-52835008.html    2.0        2.0   \n",
       "4  /propiedades/departamentos-icon-beyond-gdc-541...    2.0        2.0   \n",
       "\n",
       "   construction (m2)  terrain (m2)  divisa   price MP          Delegacion  \\\n",
       "0              282.0         416.5       1  25.000000      Miguel Hidalgo   \n",
       "1              140.5         140.5       1   5.523587       Benito Juárez   \n",
       "2               79.5         122.0       1   3.210000   Gustavo A. Madero   \n",
       "3              107.5         107.5       1   3.472000       Benito Juárez   \n",
       "4              129.0         129.0       1   5.045115      Alvaro Obregón   \n",
       "\n",
       "                 colonia  gym  pool  pet  garage  elevador  terrace  garden  \n",
       "0   Lomas de Chapultepec    0     0    0       0         0        0       1  \n",
       "1    Insurgentes Mixcoac    1     1    1       1         1        1       1  \n",
       "2             Lindavista    1     0    0       1         0        0       0  \n",
       "3               Narvarte    0     0    1       0         0        1       1  \n",
       "4              San Angel    0     0    0       0         0        0       0  "
      ]
     },
     "execution_count": 5,
     "metadata": {},
     "output_type": "execute_result"
    }
   ],
   "source": [
    "#let's look a preview of our data\n",
    "df.head()"
   ]
  },
  {
   "cell_type": "code",
   "execution_count": 6,
   "metadata": {
    "id": "ORmyT-8DBZLp",
    "outputId": "6015edcc-9015-4b09-beda-b0bcec5f394c"
   },
   "outputs": [
    {
     "name": "stdout",
     "output_type": "stream",
     "text": [
      "<class 'pandas.core.frame.DataFrame'>\n",
      "RangeIndex: 20009 entries, 0 to 20008\n",
      "Data columns (total 18 columns):\n",
      " #   Column             Non-Null Count  Dtype  \n",
      "---  ------             --------------  -----  \n",
      " 0   name               20009 non-null  object \n",
      " 1   location           20009 non-null  object \n",
      " 2   link               20009 non-null  object \n",
      " 3   rooms              20009 non-null  float64\n",
      " 4   bathrooms          20009 non-null  float64\n",
      " 5   construction (m2)  20009 non-null  float64\n",
      " 6   terrain (m2)       20009 non-null  float64\n",
      " 7   divisa             20009 non-null  int64  \n",
      " 8   price MP           20009 non-null  float64\n",
      " 9   Delegacion         20009 non-null  object \n",
      " 10  colonia            20009 non-null  object \n",
      " 11  gym                20009 non-null  int64  \n",
      " 12  pool               20009 non-null  int64  \n",
      " 13  pet                20009 non-null  int64  \n",
      " 14  garage             20009 non-null  int64  \n",
      " 15  elevador           20009 non-null  int64  \n",
      " 16  terrace            20009 non-null  int64  \n",
      " 17  garden             20009 non-null  int64  \n",
      "dtypes: float64(5), int64(8), object(5)\n",
      "memory usage: 2.7+ MB\n"
     ]
    }
   ],
   "source": [
    "#disflay info from data frame\n",
    "df.info()"
   ]
  },
  {
   "cell_type": "code",
   "execution_count": 7,
   "metadata": {
    "id": "JqvSPWj-BZLp",
    "outputId": "97e0a072-f188-4503-b0d8-f7e4895852e5"
   },
   "outputs": [
    {
     "data": {
      "text/plain": [
       "(20009, 18)"
      ]
     },
     "execution_count": 7,
     "metadata": {},
     "output_type": "execute_result"
    }
   ],
   "source": [
    "#count rows and columns\n",
    "df.shape"
   ]
  },
  {
   "cell_type": "code",
   "execution_count": 8,
   "metadata": {
    "id": "kOv1mMtMBZLq",
    "outputId": "a305cdfa-f64f-4c2e-fc00-686871218e9a"
   },
   "outputs": [
    {
     "data": {
      "text/html": [
       "<div>\n",
       "<style scoped>\n",
       "    .dataframe tbody tr th:only-of-type {\n",
       "        vertical-align: middle;\n",
       "    }\n",
       "\n",
       "    .dataframe tbody tr th {\n",
       "        vertical-align: top;\n",
       "    }\n",
       "\n",
       "    .dataframe thead th {\n",
       "        text-align: right;\n",
       "    }\n",
       "</style>\n",
       "<table border=\"1\" class=\"dataframe\">\n",
       "  <thead>\n",
       "    <tr style=\"text-align: right;\">\n",
       "      <th></th>\n",
       "      <th>rooms</th>\n",
       "      <th>bathrooms</th>\n",
       "      <th>construction (m2)</th>\n",
       "      <th>terrain (m2)</th>\n",
       "      <th>divisa</th>\n",
       "      <th>price MP</th>\n",
       "      <th>gym</th>\n",
       "      <th>pool</th>\n",
       "      <th>pet</th>\n",
       "      <th>garage</th>\n",
       "      <th>elevador</th>\n",
       "      <th>terrace</th>\n",
       "      <th>garden</th>\n",
       "    </tr>\n",
       "  </thead>\n",
       "  <tbody>\n",
       "    <tr>\n",
       "      <th>count</th>\n",
       "      <td>20009.000000</td>\n",
       "      <td>20009.000000</td>\n",
       "      <td>2.000900e+04</td>\n",
       "      <td>2.000900e+04</td>\n",
       "      <td>20009.000000</td>\n",
       "      <td>20009.000000</td>\n",
       "      <td>20009.000000</td>\n",
       "      <td>20009.000000</td>\n",
       "      <td>20009.000000</td>\n",
       "      <td>20009.000000</td>\n",
       "      <td>20009.000000</td>\n",
       "      <td>20009.000000</td>\n",
       "      <td>20009.000000</td>\n",
       "    </tr>\n",
       "    <tr>\n",
       "      <th>mean</th>\n",
       "      <td>2.388575</td>\n",
       "      <td>2.071518</td>\n",
       "      <td>2.492539e+02</td>\n",
       "      <td>5.696881e+02</td>\n",
       "      <td>0.927483</td>\n",
       "      <td>10.410225</td>\n",
       "      <td>0.277525</td>\n",
       "      <td>0.178969</td>\n",
       "      <td>0.060723</td>\n",
       "      <td>0.652306</td>\n",
       "      <td>0.265181</td>\n",
       "      <td>0.260533</td>\n",
       "      <td>0.299165</td>\n",
       "    </tr>\n",
       "    <tr>\n",
       "      <th>std</th>\n",
       "      <td>0.782781</td>\n",
       "      <td>0.821440</td>\n",
       "      <td>1.181541e+04</td>\n",
       "      <td>2.690536e+04</td>\n",
       "      <td>0.259349</td>\n",
       "      <td>41.672780</td>\n",
       "      <td>0.447789</td>\n",
       "      <td>0.383336</td>\n",
       "      <td>0.238827</td>\n",
       "      <td>0.476250</td>\n",
       "      <td>0.441440</td>\n",
       "      <td>0.438936</td>\n",
       "      <td>0.457904</td>\n",
       "    </tr>\n",
       "    <tr>\n",
       "      <th>min</th>\n",
       "      <td>0.000000</td>\n",
       "      <td>0.000000</td>\n",
       "      <td>1.000000e+00</td>\n",
       "      <td>1.000000e+00</td>\n",
       "      <td>0.000000</td>\n",
       "      <td>0.000001</td>\n",
       "      <td>0.000000</td>\n",
       "      <td>0.000000</td>\n",
       "      <td>0.000000</td>\n",
       "      <td>0.000000</td>\n",
       "      <td>0.000000</td>\n",
       "      <td>0.000000</td>\n",
       "      <td>0.000000</td>\n",
       "    </tr>\n",
       "    <tr>\n",
       "      <th>25%</th>\n",
       "      <td>2.000000</td>\n",
       "      <td>2.000000</td>\n",
       "      <td>7.600000e+01</td>\n",
       "      <td>7.900000e+01</td>\n",
       "      <td>1.000000</td>\n",
       "      <td>3.000000</td>\n",
       "      <td>0.000000</td>\n",
       "      <td>0.000000</td>\n",
       "      <td>0.000000</td>\n",
       "      <td>0.000000</td>\n",
       "      <td>0.000000</td>\n",
       "      <td>0.000000</td>\n",
       "      <td>0.000000</td>\n",
       "    </tr>\n",
       "    <tr>\n",
       "      <th>50%</th>\n",
       "      <td>2.000000</td>\n",
       "      <td>2.000000</td>\n",
       "      <td>1.100000e+02</td>\n",
       "      <td>1.150000e+02</td>\n",
       "      <td>1.000000</td>\n",
       "      <td>5.250000</td>\n",
       "      <td>0.000000</td>\n",
       "      <td>0.000000</td>\n",
       "      <td>0.000000</td>\n",
       "      <td>1.000000</td>\n",
       "      <td>0.000000</td>\n",
       "      <td>0.000000</td>\n",
       "      <td>0.000000</td>\n",
       "    </tr>\n",
       "    <tr>\n",
       "      <th>75%</th>\n",
       "      <td>3.000000</td>\n",
       "      <td>3.000000</td>\n",
       "      <td>1.830000e+02</td>\n",
       "      <td>1.920000e+02</td>\n",
       "      <td>1.000000</td>\n",
       "      <td>10.507115</td>\n",
       "      <td>1.000000</td>\n",
       "      <td>0.000000</td>\n",
       "      <td>0.000000</td>\n",
       "      <td>1.000000</td>\n",
       "      <td>1.000000</td>\n",
       "      <td>1.000000</td>\n",
       "      <td>1.000000</td>\n",
       "    </tr>\n",
       "    <tr>\n",
       "      <th>max</th>\n",
       "      <td>40.000000</td>\n",
       "      <td>22.000000</td>\n",
       "      <td>1.670000e+06</td>\n",
       "      <td>2.900000e+06</td>\n",
       "      <td>1.000000</td>\n",
       "      <td>3150.000000</td>\n",
       "      <td>1.000000</td>\n",
       "      <td>1.000000</td>\n",
       "      <td>1.000000</td>\n",
       "      <td>1.000000</td>\n",
       "      <td>1.000000</td>\n",
       "      <td>1.000000</td>\n",
       "      <td>1.000000</td>\n",
       "    </tr>\n",
       "  </tbody>\n",
       "</table>\n",
       "</div>"
      ],
      "text/plain": [
       "              rooms     bathrooms  construction (m2)  terrain (m2)  \\\n",
       "count  20009.000000  20009.000000       2.000900e+04  2.000900e+04   \n",
       "mean       2.388575      2.071518       2.492539e+02  5.696881e+02   \n",
       "std        0.782781      0.821440       1.181541e+04  2.690536e+04   \n",
       "min        0.000000      0.000000       1.000000e+00  1.000000e+00   \n",
       "25%        2.000000      2.000000       7.600000e+01  7.900000e+01   \n",
       "50%        2.000000      2.000000       1.100000e+02  1.150000e+02   \n",
       "75%        3.000000      3.000000       1.830000e+02  1.920000e+02   \n",
       "max       40.000000     22.000000       1.670000e+06  2.900000e+06   \n",
       "\n",
       "             divisa      price MP           gym          pool           pet  \\\n",
       "count  20009.000000  20009.000000  20009.000000  20009.000000  20009.000000   \n",
       "mean       0.927483     10.410225      0.277525      0.178969      0.060723   \n",
       "std        0.259349     41.672780      0.447789      0.383336      0.238827   \n",
       "min        0.000000      0.000001      0.000000      0.000000      0.000000   \n",
       "25%        1.000000      3.000000      0.000000      0.000000      0.000000   \n",
       "50%        1.000000      5.250000      0.000000      0.000000      0.000000   \n",
       "75%        1.000000     10.507115      1.000000      0.000000      0.000000   \n",
       "max        1.000000   3150.000000      1.000000      1.000000      1.000000   \n",
       "\n",
       "             garage      elevador       terrace        garden  \n",
       "count  20009.000000  20009.000000  20009.000000  20009.000000  \n",
       "mean       0.652306      0.265181      0.260533      0.299165  \n",
       "std        0.476250      0.441440      0.438936      0.457904  \n",
       "min        0.000000      0.000000      0.000000      0.000000  \n",
       "25%        0.000000      0.000000      0.000000      0.000000  \n",
       "50%        1.000000      0.000000      0.000000      0.000000  \n",
       "75%        1.000000      1.000000      1.000000      1.000000  \n",
       "max        1.000000      1.000000      1.000000      1.000000  "
      ]
     },
     "execution_count": 8,
     "metadata": {},
     "output_type": "execute_result"
    }
   ],
   "source": [
    "#a vrief stat\n",
    "df.describe()"
   ]
  },
  {
   "cell_type": "code",
   "execution_count": 9,
   "metadata": {
    "id": "xmspsru2BZLq",
    "outputId": "9c1d4d70-295e-418c-8c3e-5d3212770248"
   },
   "outputs": [
    {
     "data": {
      "text/html": [
       "<div>\n",
       "<style scoped>\n",
       "    .dataframe tbody tr th:only-of-type {\n",
       "        vertical-align: middle;\n",
       "    }\n",
       "\n",
       "    .dataframe tbody tr th {\n",
       "        vertical-align: top;\n",
       "    }\n",
       "\n",
       "    .dataframe thead th {\n",
       "        text-align: right;\n",
       "    }\n",
       "</style>\n",
       "<table border=\"1\" class=\"dataframe\">\n",
       "  <thead>\n",
       "    <tr style=\"text-align: right;\">\n",
       "      <th></th>\n",
       "      <th>rooms</th>\n",
       "      <th>bathrooms</th>\n",
       "      <th>construction (m2)</th>\n",
       "      <th>terrain (m2)</th>\n",
       "      <th>divisa</th>\n",
       "      <th>price MP</th>\n",
       "      <th>gym</th>\n",
       "      <th>pool</th>\n",
       "      <th>pet</th>\n",
       "      <th>garage</th>\n",
       "      <th>elevador</th>\n",
       "      <th>terrace</th>\n",
       "      <th>garden</th>\n",
       "    </tr>\n",
       "  </thead>\n",
       "  <tbody>\n",
       "    <tr>\n",
       "      <th>count</th>\n",
       "      <td>19786.000000</td>\n",
       "      <td>19786.000000</td>\n",
       "      <td>19786.000000</td>\n",
       "      <td>19786.000000</td>\n",
       "      <td>19786.000000</td>\n",
       "      <td>19786.000000</td>\n",
       "      <td>19786.000000</td>\n",
       "      <td>19786.000000</td>\n",
       "      <td>19786.000000</td>\n",
       "      <td>19786.000000</td>\n",
       "      <td>19786.000000</td>\n",
       "      <td>19786.000000</td>\n",
       "      <td>19786.000000</td>\n",
       "    </tr>\n",
       "    <tr>\n",
       "      <th>mean</th>\n",
       "      <td>2.404048</td>\n",
       "      <td>2.079147</td>\n",
       "      <td>150.342085</td>\n",
       "      <td>157.205827</td>\n",
       "      <td>0.928384</td>\n",
       "      <td>9.135421</td>\n",
       "      <td>0.277216</td>\n",
       "      <td>0.178813</td>\n",
       "      <td>0.060649</td>\n",
       "      <td>0.654806</td>\n",
       "      <td>0.266047</td>\n",
       "      <td>0.261195</td>\n",
       "      <td>0.300212</td>\n",
       "    </tr>\n",
       "    <tr>\n",
       "      <th>std</th>\n",
       "      <td>0.627907</td>\n",
       "      <td>0.772540</td>\n",
       "      <td>111.773844</td>\n",
       "      <td>121.372701</td>\n",
       "      <td>0.257858</td>\n",
       "      <td>11.639697</td>\n",
       "      <td>0.447635</td>\n",
       "      <td>0.383206</td>\n",
       "      <td>0.238691</td>\n",
       "      <td>0.475443</td>\n",
       "      <td>0.441900</td>\n",
       "      <td>0.439297</td>\n",
       "      <td>0.458362</td>\n",
       "    </tr>\n",
       "    <tr>\n",
       "      <th>min</th>\n",
       "      <td>1.000000</td>\n",
       "      <td>1.000000</td>\n",
       "      <td>30.000000</td>\n",
       "      <td>30.000000</td>\n",
       "      <td>0.000000</td>\n",
       "      <td>0.305100</td>\n",
       "      <td>0.000000</td>\n",
       "      <td>0.000000</td>\n",
       "      <td>0.000000</td>\n",
       "      <td>0.000000</td>\n",
       "      <td>0.000000</td>\n",
       "      <td>0.000000</td>\n",
       "      <td>0.000000</td>\n",
       "    </tr>\n",
       "    <tr>\n",
       "      <th>25%</th>\n",
       "      <td>2.000000</td>\n",
       "      <td>2.000000</td>\n",
       "      <td>77.000000</td>\n",
       "      <td>79.000000</td>\n",
       "      <td>1.000000</td>\n",
       "      <td>3.000000</td>\n",
       "      <td>0.000000</td>\n",
       "      <td>0.000000</td>\n",
       "      <td>0.000000</td>\n",
       "      <td>0.000000</td>\n",
       "      <td>0.000000</td>\n",
       "      <td>0.000000</td>\n",
       "      <td>0.000000</td>\n",
       "    </tr>\n",
       "    <tr>\n",
       "      <th>50%</th>\n",
       "      <td>2.000000</td>\n",
       "      <td>2.000000</td>\n",
       "      <td>110.000000</td>\n",
       "      <td>115.000000</td>\n",
       "      <td>1.000000</td>\n",
       "      <td>5.250000</td>\n",
       "      <td>0.000000</td>\n",
       "      <td>0.000000</td>\n",
       "      <td>0.000000</td>\n",
       "      <td>1.000000</td>\n",
       "      <td>0.000000</td>\n",
       "      <td>0.000000</td>\n",
       "      <td>0.000000</td>\n",
       "    </tr>\n",
       "    <tr>\n",
       "      <th>75%</th>\n",
       "      <td>3.000000</td>\n",
       "      <td>2.000000</td>\n",
       "      <td>182.000000</td>\n",
       "      <td>190.000000</td>\n",
       "      <td>1.000000</td>\n",
       "      <td>10.500000</td>\n",
       "      <td>1.000000</td>\n",
       "      <td>0.000000</td>\n",
       "      <td>0.000000</td>\n",
       "      <td>1.000000</td>\n",
       "      <td>1.000000</td>\n",
       "      <td>1.000000</td>\n",
       "      <td>1.000000</td>\n",
       "    </tr>\n",
       "    <tr>\n",
       "      <th>max</th>\n",
       "      <td>5.000000</td>\n",
       "      <td>5.000000</td>\n",
       "      <td>1165.000000</td>\n",
       "      <td>1400.000000</td>\n",
       "      <td>1.000000</td>\n",
       "      <td>129.000000</td>\n",
       "      <td>1.000000</td>\n",
       "      <td>1.000000</td>\n",
       "      <td>1.000000</td>\n",
       "      <td>1.000000</td>\n",
       "      <td>1.000000</td>\n",
       "      <td>1.000000</td>\n",
       "      <td>1.000000</td>\n",
       "    </tr>\n",
       "  </tbody>\n",
       "</table>\n",
       "</div>"
      ],
      "text/plain": [
       "              rooms     bathrooms  construction (m2)  terrain (m2)  \\\n",
       "count  19786.000000  19786.000000       19786.000000  19786.000000   \n",
       "mean       2.404048      2.079147         150.342085    157.205827   \n",
       "std        0.627907      0.772540         111.773844    121.372701   \n",
       "min        1.000000      1.000000          30.000000     30.000000   \n",
       "25%        2.000000      2.000000          77.000000     79.000000   \n",
       "50%        2.000000      2.000000         110.000000    115.000000   \n",
       "75%        3.000000      2.000000         182.000000    190.000000   \n",
       "max        5.000000      5.000000        1165.000000   1400.000000   \n",
       "\n",
       "             divisa      price MP           gym          pool           pet  \\\n",
       "count  19786.000000  19786.000000  19786.000000  19786.000000  19786.000000   \n",
       "mean       0.928384      9.135421      0.277216      0.178813      0.060649   \n",
       "std        0.257858     11.639697      0.447635      0.383206      0.238691   \n",
       "min        0.000000      0.305100      0.000000      0.000000      0.000000   \n",
       "25%        1.000000      3.000000      0.000000      0.000000      0.000000   \n",
       "50%        1.000000      5.250000      0.000000      0.000000      0.000000   \n",
       "75%        1.000000     10.500000      1.000000      0.000000      0.000000   \n",
       "max        1.000000    129.000000      1.000000      1.000000      1.000000   \n",
       "\n",
       "             garage      elevador       terrace        garden  \n",
       "count  19786.000000  19786.000000  19786.000000  19786.000000  \n",
       "mean       0.654806      0.266047      0.261195      0.300212  \n",
       "std        0.475443      0.441900      0.439297      0.458362  \n",
       "min        0.000000      0.000000      0.000000      0.000000  \n",
       "25%        0.000000      0.000000      0.000000      0.000000  \n",
       "50%        1.000000      0.000000      0.000000      0.000000  \n",
       "75%        1.000000      1.000000      1.000000      1.000000  \n",
       "max        1.000000      1.000000      1.000000      1.000000  "
      ]
     },
     "execution_count": 9,
     "metadata": {},
     "output_type": "execute_result"
    }
   ],
   "source": [
    "#les's clean more the data and consider a aceptable value for rooms, baths, construction and terrain\n",
    "df['rooms'] = df['rooms'].replace(0, 2)\n",
    "df['bathrooms'] = df['bathrooms'].replace(0,2)\n",
    "df = df[df['rooms']<6]\n",
    "df = df[df['bathrooms']<6]\n",
    "df = df[df['construction (m2)']<1200]\n",
    "df = df[df['construction (m2)']>29]\n",
    "df = df[df['terrain (m2)']<1500]\n",
    "df = df[df['terrain (m2)']>29]\n",
    "#lets consider a better range of prices \n",
    "df = df[df['price MP'] < 130]\n",
    "df = df[df['price MP'] > 0.3]\n",
    "#a vrief stat\n",
    "df.describe()"
   ]
  },
  {
   "cell_type": "code",
   "execution_count": 10,
   "metadata": {
    "id": "BGbj4CHYBZLq",
    "outputId": "e7d3bfed-8985-471e-ce37-056c74b8bf82"
   },
   "outputs": [
    {
     "data": {
      "text/plain": [
       " Benito Juárez             5003\n",
       " Miguel Hidalgo            4279\n",
       " Cuauhtémoc                2647\n",
       " Alvaro Obregón            2312\n",
       " Cuajimalpa de Morelos     2271\n",
       " Coyoacán                   740\n",
       " Tlalpan                    654\n",
       " Azcapotzalco               343\n",
       " Distrito Federal           314\n",
       " Gustavo A. Madero          287\n",
       " Venustiano Carranza        263\n",
       " Iztapalapa                 240\n",
       " Iztacalco                  198\n",
       " La Magdalena Contreras     143\n",
       " Tláhuac                     44\n",
       " Xochimilco                  43\n",
       " otra                         5\n",
       "Name: Delegacion, dtype: int64"
      ]
     },
     "execution_count": 10,
     "metadata": {},
     "output_type": "execute_result"
    }
   ],
   "source": [
    "#a look at appartments per delegacion\n",
    "df.Delegacion.value_counts()"
   ]
  },
  {
   "cell_type": "code",
   "execution_count": 11,
   "metadata": {
    "id": "O8ao8AHVBZLq"
   },
   "outputs": [],
   "source": [
    "#delete delegacion 'Distrito Federal' because its all te city\n",
    "df = df[~df.Delegacion.str.contains('Distrito')]"
   ]
  },
  {
   "cell_type": "code",
   "execution_count": 12,
   "metadata": {
    "id": "tizb9DxgBZLr",
    "outputId": "df222c5b-32ff-454d-aea3-0217fb4d12e8"
   },
   "outputs": [
    {
     "data": {
      "text/html": [
       "<div>\n",
       "<style scoped>\n",
       "    .dataframe tbody tr th:only-of-type {\n",
       "        vertical-align: middle;\n",
       "    }\n",
       "\n",
       "    .dataframe tbody tr th {\n",
       "        vertical-align: top;\n",
       "    }\n",
       "\n",
       "    .dataframe thead th {\n",
       "        text-align: right;\n",
       "    }\n",
       "</style>\n",
       "<table border=\"1\" class=\"dataframe\">\n",
       "  <thead>\n",
       "    <tr style=\"text-align: right;\">\n",
       "      <th></th>\n",
       "      <th>name</th>\n",
       "      <th>location</th>\n",
       "      <th>link</th>\n",
       "      <th>rooms</th>\n",
       "      <th>bathrooms</th>\n",
       "      <th>construction (m2)</th>\n",
       "      <th>terrain (m2)</th>\n",
       "      <th>divisa</th>\n",
       "      <th>price MP</th>\n",
       "      <th>Delegacion</th>\n",
       "      <th>colonia</th>\n",
       "      <th>gym</th>\n",
       "      <th>pool</th>\n",
       "      <th>pet</th>\n",
       "      <th>garage</th>\n",
       "      <th>elevador</th>\n",
       "      <th>terrace</th>\n",
       "      <th>garden</th>\n",
       "    </tr>\n",
       "  </thead>\n",
       "  <tbody>\n",
       "    <tr>\n",
       "      <th>10338</th>\n",
       "      <td>Oportunidad Dpto a Precio de Remate Col Nativitas</td>\n",
       "      <td>Nativitas, Xochimilco</td>\n",
       "      <td>/propiedades/oportunidad-dpto-a-precio-de-rema...</td>\n",
       "      <td>2.0</td>\n",
       "      <td>1.0</td>\n",
       "      <td>83.0</td>\n",
       "      <td>83.0</td>\n",
       "      <td>1</td>\n",
       "      <td>0.413149</td>\n",
       "      <td>Xochimilco</td>\n",
       "      <td>Nativitas</td>\n",
       "      <td>0</td>\n",
       "      <td>0</td>\n",
       "      <td>0</td>\n",
       "      <td>0</td>\n",
       "      <td>0</td>\n",
       "      <td>0</td>\n",
       "      <td>0</td>\n",
       "    </tr>\n",
       "    <tr>\n",
       "      <th>12081</th>\n",
       "      <td>Excelente Oportunidad de Inversion Departament...</td>\n",
       "      <td>Santiago Tepalcatlalpan, Xochimilco</td>\n",
       "      <td>/propiedades/excelente-oportunidad-de-inversio...</td>\n",
       "      <td>2.0</td>\n",
       "      <td>1.0</td>\n",
       "      <td>60.0</td>\n",
       "      <td>60.0</td>\n",
       "      <td>1</td>\n",
       "      <td>0.450000</td>\n",
       "      <td>Xochimilco</td>\n",
       "      <td>Santiago Tepalcatlalpan</td>\n",
       "      <td>0</td>\n",
       "      <td>0</td>\n",
       "      <td>0</td>\n",
       "      <td>0</td>\n",
       "      <td>0</td>\n",
       "      <td>0</td>\n",
       "      <td>0</td>\n",
       "    </tr>\n",
       "    <tr>\n",
       "      <th>11597</th>\n",
       "      <td>Excelente Inversión Departamento en Delegación...</td>\n",
       "      <td>Ampliación Tepepan, Xochimilco</td>\n",
       "      <td>/propiedades/excelente-inversion-departamento-...</td>\n",
       "      <td>2.0</td>\n",
       "      <td>1.0</td>\n",
       "      <td>70.0</td>\n",
       "      <td>70.0</td>\n",
       "      <td>1</td>\n",
       "      <td>0.574082</td>\n",
       "      <td>Xochimilco</td>\n",
       "      <td>Ampliación Tepepan</td>\n",
       "      <td>0</td>\n",
       "      <td>0</td>\n",
       "      <td>0</td>\n",
       "      <td>0</td>\n",
       "      <td>0</td>\n",
       "      <td>0</td>\n",
       "      <td>0</td>\n",
       "    </tr>\n",
       "    <tr>\n",
       "      <th>11616</th>\n",
       "      <td>Excelente Oportunidad de Inversion Depto en Ac...</td>\n",
       "      <td>Ampliación Tepepan, Xochimilco</td>\n",
       "      <td>/propiedades/excelente-oportunidad-de-inversio...</td>\n",
       "      <td>2.0</td>\n",
       "      <td>1.0</td>\n",
       "      <td>55.0</td>\n",
       "      <td>55.0</td>\n",
       "      <td>1</td>\n",
       "      <td>0.589082</td>\n",
       "      <td>Xochimilco</td>\n",
       "      <td>Ampliación Tepepan</td>\n",
       "      <td>0</td>\n",
       "      <td>0</td>\n",
       "      <td>0</td>\n",
       "      <td>0</td>\n",
       "      <td>0</td>\n",
       "      <td>0</td>\n",
       "      <td>0</td>\n",
       "    </tr>\n",
       "    <tr>\n",
       "      <th>6879</th>\n",
       "      <td>Depto de Remate Bancario La Noria Xochimilco</td>\n",
       "      <td>La Noria, Xochimilco</td>\n",
       "      <td>/propiedades/depto-de-remate-bancario-la-noria...</td>\n",
       "      <td>3.0</td>\n",
       "      <td>2.0</td>\n",
       "      <td>80.0</td>\n",
       "      <td>80.0</td>\n",
       "      <td>1</td>\n",
       "      <td>0.866000</td>\n",
       "      <td>Xochimilco</td>\n",
       "      <td>La Noria</td>\n",
       "      <td>0</td>\n",
       "      <td>0</td>\n",
       "      <td>0</td>\n",
       "      <td>0</td>\n",
       "      <td>0</td>\n",
       "      <td>0</td>\n",
       "      <td>0</td>\n",
       "    </tr>\n",
       "  </tbody>\n",
       "</table>\n",
       "</div>"
      ],
      "text/plain": [
       "                                                    name  \\\n",
       "10338  Oportunidad Dpto a Precio de Remate Col Nativitas   \n",
       "12081  Excelente Oportunidad de Inversion Departament...   \n",
       "11597  Excelente Inversión Departamento en Delegación...   \n",
       "11616  Excelente Oportunidad de Inversion Depto en Ac...   \n",
       "6879        Depto de Remate Bancario La Noria Xochimilco   \n",
       "\n",
       "                                  location  \\\n",
       "10338                Nativitas, Xochimilco   \n",
       "12081  Santiago Tepalcatlalpan, Xochimilco   \n",
       "11597       Ampliación Tepepan, Xochimilco   \n",
       "11616       Ampliación Tepepan, Xochimilco   \n",
       "6879                  La Noria, Xochimilco   \n",
       "\n",
       "                                                    link  rooms  bathrooms  \\\n",
       "10338  /propiedades/oportunidad-dpto-a-precio-de-rema...    2.0        1.0   \n",
       "12081  /propiedades/excelente-oportunidad-de-inversio...    2.0        1.0   \n",
       "11597  /propiedades/excelente-inversion-departamento-...    2.0        1.0   \n",
       "11616  /propiedades/excelente-oportunidad-de-inversio...    2.0        1.0   \n",
       "6879   /propiedades/depto-de-remate-bancario-la-noria...    3.0        2.0   \n",
       "\n",
       "       construction (m2)  terrain (m2)  divisa  price MP   Delegacion  \\\n",
       "10338               83.0          83.0       1  0.413149   Xochimilco   \n",
       "12081               60.0          60.0       1  0.450000   Xochimilco   \n",
       "11597               70.0          70.0       1  0.574082   Xochimilco   \n",
       "11616               55.0          55.0       1  0.589082   Xochimilco   \n",
       "6879                80.0          80.0       1  0.866000   Xochimilco   \n",
       "\n",
       "                       colonia  gym  pool  pet  garage  elevador  terrace  \\\n",
       "10338                Nativitas    0     0    0       0         0        0   \n",
       "12081  Santiago Tepalcatlalpan    0     0    0       0         0        0   \n",
       "11597       Ampliación Tepepan    0     0    0       0         0        0   \n",
       "11616       Ampliación Tepepan    0     0    0       0         0        0   \n",
       "6879                  La Noria    0     0    0       0         0        0   \n",
       "\n",
       "       garden  \n",
       "10338       0  \n",
       "12081       0  \n",
       "11597       0  \n",
       "11616       0  \n",
       "6879        0  "
      ]
     },
     "execution_count": 12,
     "metadata": {},
     "output_type": "execute_result"
    }
   ],
   "source": [
    "#lets see the max prices per delegacion\n",
    "df[df.Delegacion.str.contains('Xochimilco')].sort_values(by=['price MP']).head()"
   ]
  },
  {
   "cell_type": "code",
   "execution_count": 13,
   "metadata": {
    "id": "-uTdjo8bBZLr",
    "outputId": "5dcf8310-36ed-4e78-80d7-d504c1f9a0ac"
   },
   "outputs": [
    {
     "data": {
      "text/plain": [
       " Benito Juárez             5003\n",
       " Miguel Hidalgo            4279\n",
       " Cuauhtémoc                2647\n",
       " Alvaro Obregón            2312\n",
       " Cuajimalpa de Morelos     2271\n",
       " Coyoacán                   740\n",
       " Tlalpan                    654\n",
       " Azcapotzalco               343\n",
       " Gustavo A. Madero          287\n",
       " Venustiano Carranza        263\n",
       " Iztapalapa                 240\n",
       " Iztacalco                  198\n",
       " La Magdalena Contreras     143\n",
       " Tláhuac                     44\n",
       " Xochimilco                  43\n",
       " otra                         5\n",
       "Name: Delegacion, dtype: int64"
      ]
     },
     "execution_count": 13,
     "metadata": {},
     "output_type": "execute_result"
    }
   ],
   "source": [
    "#let's count dep for each delegacion again\n",
    "df.Delegacion.value_counts()"
   ]
  },
  {
   "cell_type": "code",
   "execution_count": 14,
   "metadata": {
    "id": "L6IIhuHiBZLr"
   },
   "outputs": [],
   "source": [
    "#delete the spaces from colonia to get better centain\n",
    "df['colonia'] = df['colonia'].apply(lambda x: x.replace(' ', ''))"
   ]
  },
  {
   "cell_type": "code",
   "execution_count": 15,
   "metadata": {
    "id": "94m64V-KBZLr",
    "outputId": "ff34af6a-4bf3-4548-c620-0c2090bd531d"
   },
   "outputs": [
    {
     "data": {
      "text/plain": [
       "Polanco              1765\n",
       "DelValle             1370\n",
       "Narvarte              839\n",
       "BosquesdelasLomas     778\n",
       "Portales              492\n",
       "Name: colonia, dtype: int64"
      ]
     },
     "execution_count": 15,
     "metadata": {},
     "output_type": "execute_result"
    }
   ],
   "source": [
    "#a look at appm per colonia\n",
    "df.colonia.value_counts().head()"
   ]
  },
  {
   "cell_type": "code",
   "execution_count": 16,
   "metadata": {
    "id": "ZmlLcnIDBZLr"
   },
   "outputs": [],
   "source": [
    "#lets considere only the colonias that have more than 10 apts \n",
    "df =  df[~df.colonia.isin(df.colonia.value_counts().loc[lambda x: x < 10].index)]"
   ]
  },
  {
   "cell_type": "code",
   "execution_count": 17,
   "metadata": {
    "id": "53EyKCvoBZLr",
    "outputId": "605c8274-5911-4603-e985-b482b24e0e4d"
   },
   "outputs": [
    {
     "data": {
      "text/plain": [
       "Polanco                1765\n",
       "DelValle               1370\n",
       "Narvarte                839\n",
       "BosquesdelasLomas       778\n",
       "Portales                492\n",
       "                       ... \n",
       "SanBartoloAmeyalco       10\n",
       "Petrolera                10\n",
       "LomasdeSotelo            10\n",
       "LosManzanos              10\n",
       "SantaFeCentroCiudad      10\n",
       "Name: colonia, Length: 227, dtype: int64"
      ]
     },
     "execution_count": 17,
     "metadata": {},
     "output_type": "execute_result"
    }
   ],
   "source": [
    "#a look at appm per colonia\n",
    "df.colonia.value_counts()"
   ]
  },
  {
   "cell_type": "code",
   "execution_count": 18,
   "metadata": {},
   "outputs": [],
   "source": [
    "#we finished with our data cleaned lest export it \n",
    "df.to_csv('data-eda.csv',index = False)"
   ]
  },
  {
   "cell_type": "code",
   "execution_count": 19,
   "metadata": {
    "id": "or4JbktfBZLs",
    "outputId": "24cd1162-f2f8-4fc1-bf9d-62b14303fd40"
   },
   "outputs": [
    {
     "data": {
      "text/html": [
       "<div>\n",
       "<style scoped>\n",
       "    .dataframe tbody tr th:only-of-type {\n",
       "        vertical-align: middle;\n",
       "    }\n",
       "\n",
       "    .dataframe tbody tr th {\n",
       "        vertical-align: top;\n",
       "    }\n",
       "\n",
       "    .dataframe thead th {\n",
       "        text-align: right;\n",
       "    }\n",
       "</style>\n",
       "<table border=\"1\" class=\"dataframe\">\n",
       "  <thead>\n",
       "    <tr style=\"text-align: right;\">\n",
       "      <th></th>\n",
       "      <th>rooms</th>\n",
       "      <th>bathrooms</th>\n",
       "      <th>construction (m2)</th>\n",
       "      <th>terrain (m2)</th>\n",
       "      <th>price MP</th>\n",
       "    </tr>\n",
       "  </thead>\n",
       "  <tbody>\n",
       "    <tr>\n",
       "      <th>rooms</th>\n",
       "      <td>1.000000</td>\n",
       "      <td>0.587729</td>\n",
       "      <td>0.515673</td>\n",
       "      <td>0.483143</td>\n",
       "      <td>0.336272</td>\n",
       "    </tr>\n",
       "    <tr>\n",
       "      <th>bathrooms</th>\n",
       "      <td>0.587729</td>\n",
       "      <td>1.000000</td>\n",
       "      <td>0.659550</td>\n",
       "      <td>0.603671</td>\n",
       "      <td>0.532655</td>\n",
       "    </tr>\n",
       "    <tr>\n",
       "      <th>construction (m2)</th>\n",
       "      <td>0.515673</td>\n",
       "      <td>0.659550</td>\n",
       "      <td>1.000000</td>\n",
       "      <td>0.906929</td>\n",
       "      <td>0.797283</td>\n",
       "    </tr>\n",
       "    <tr>\n",
       "      <th>terrain (m2)</th>\n",
       "      <td>0.483143</td>\n",
       "      <td>0.603671</td>\n",
       "      <td>0.906929</td>\n",
       "      <td>1.000000</td>\n",
       "      <td>0.735728</td>\n",
       "    </tr>\n",
       "    <tr>\n",
       "      <th>price MP</th>\n",
       "      <td>0.336272</td>\n",
       "      <td>0.532655</td>\n",
       "      <td>0.797283</td>\n",
       "      <td>0.735728</td>\n",
       "      <td>1.000000</td>\n",
       "    </tr>\n",
       "  </tbody>\n",
       "</table>\n",
       "</div>"
      ],
      "text/plain": [
       "                      rooms  bathrooms  construction (m2)  terrain (m2)  \\\n",
       "rooms              1.000000   0.587729           0.515673      0.483143   \n",
       "bathrooms          0.587729   1.000000           0.659550      0.603671   \n",
       "construction (m2)  0.515673   0.659550           1.000000      0.906929   \n",
       "terrain (m2)       0.483143   0.603671           0.906929      1.000000   \n",
       "price MP           0.336272   0.532655           0.797283      0.735728   \n",
       "\n",
       "                   price MP  \n",
       "rooms              0.336272  \n",
       "bathrooms          0.532655  \n",
       "construction (m2)  0.797283  \n",
       "terrain (m2)       0.735728  \n",
       "price MP           1.000000  "
      ]
     },
     "execution_count": 19,
     "metadata": {},
     "output_type": "execute_result"
    }
   ],
   "source": [
    "#we finished with our data cleaned\n",
    "#look at the correlation between the numerical data\n",
    "df[['rooms','bathrooms', 'construction (m2)','terrain (m2)', 'price MP']].corr()"
   ]
  },
  {
   "cell_type": "code",
   "execution_count": 21,
   "metadata": {
    "id": "Q-odmEZMBZLs",
    "outputId": "c4b00fdf-c4ce-421b-b2e6-d070ea380f4c"
   },
   "outputs": [
    {
     "data": {
      "image/png": "[encoded data removed]",
      "text/plain": [
       "<Figure size 432x288 with 2 Axes>"
      ]
     },
     "metadata": {
      "needs_background": "light"
     },
     "output_type": "display_data"
    }
   ],
   "source": [
    "#we make a representative matrix\n",
    "cmap = sns.diverging_palette(220,10, as_cmap=True)\n",
    "sns.heatmap(df[['rooms','bathrooms', 'construction (m2)','terrain (m2)', 'price MP']].corr(), vmax=1,center=0,\n",
    "            cmap=cmap, square=True, linewidths=0.5, cbar_kws={\"shrink\":0.5})\n",
    "plt.savefig('heatmap.png', dpi=300, bbox_inches='tight')"
   ]
  },
  {
   "cell_type": "code",
   "execution_count": 22,
   "metadata": {
    "id": "7VTzdocyBZLs",
    "outputId": "3cda8feb-d318-425a-98ce-fb0a9b6134da"
   },
   "outputs": [
    {
     "data": {
      "text/plain": [
       "<AxesSubplot:>"
      ]
     },
     "execution_count": 22,
     "metadata": {},
     "output_type": "execute_result"
    },
    {
     "data": {
      "image/png": "[encoded data removed]",
      "text/plain": [
       "<Figure size 432x288 with 1 Axes>"
      ]
     },
     "metadata": {
      "needs_background": "light"
     },
     "output_type": "display_data"
    }
   ],
   "source": [
    "df[df['price MP']<50]['price MP'].hist(bins=100)"
   ]
  },
  {
   "cell_type": "code",
   "execution_count": 23,
   "metadata": {
    "id": "8kbUSFVmBZLs"
   },
   "outputs": [],
   "source": [
    "#make a data frame with categorical data\n",
    "df_cat = df[['Delegacion', 'colonia', 'gym',\n",
    "       'pool', 'pet', 'garage', 'elevador', 'terrace', 'garden']]"
   ]
  },
  {
   "cell_type": "code",
   "execution_count": 24,
   "metadata": {
    "id": "xmRfXOj7BZLs"
   },
   "outputs": [
    {
     "name": "stdout",
     "output_type": "stream",
     "text": [
      "graph for Delegacion: total = 15\n"
     ]
    },
    {
     "data": {
      "image/png": "[encoded data removed]",
      "text/plain": [
       "<Figure size 432x288 with 1 Axes>"
      ]
     },
     "metadata": {
      "needs_background": "light"
     },
     "output_type": "display_data"
    },
    {
     "name": "stdout",
     "output_type": "stream",
     "text": [
      "graph for colonia: total = 227\n"
     ]
    },
    {
     "data": {
      "image/png": "[encoded data removed]",
      "text/plain": [
       "<Figure size 432x288 with 1 Axes>"
      ]
     },
     "metadata": {
      "needs_background": "light"
     },
     "output_type": "display_data"
    },
    {
     "name": "stdout",
     "output_type": "stream",
     "text": [
      "graph for gym: total = 2\n"
     ]
    },
    {
     "data": {
      "image/png": "[encoded data removed]",
      "text/plain": [
       "<Figure size 432x288 with 1 Axes>"
      ]
     },
     "metadata": {
      "needs_background": "light"
     },
     "output_type": "display_data"
    },
    {
     "name": "stdout",
     "output_type": "stream",
     "text": [
      "graph for pool: total = 2\n"
     ]
    },
    {
     "data": {
      "image/png": "[encoded data removed]",
      "text/plain": [
       "<Figure size 432x288 with 1 Axes>"
      ]
     },
     "metadata": {
      "needs_background": "light"
     },
     "output_type": "display_data"
    },
    {
     "name": "stdout",
     "output_type": "stream",
     "text": [
      "graph for pet: total = 2\n"
     ]
    },
    {
     "data": {
      "image/png": "[encoded data removed]",
      "text/plain": [
       "<Figure size 432x288 with 1 Axes>"
      ]
     },
     "metadata": {
      "needs_background": "light"
     },
     "output_type": "display_data"
    },
    {
     "name": "stdout",
     "output_type": "stream",
     "text": [
      "graph for garage: total = 2\n"
     ]
    },
    {
     "data": {
      "image/png": "[encoded data removed]",
      "text/plain": [
       "<Figure size 432x288 with 1 Axes>"
      ]
     },
     "metadata": {
      "needs_background": "light"
     },
     "output_type": "display_data"
    },
    {
     "name": "stdout",
     "output_type": "stream",
     "text": [
      "graph for elevador: total = 2\n"
     ]
    },
    {
     "data": {
      "image/png": "[encoded data removed]",
      "text/plain": [
       "<Figure size 432x288 with 1 Axes>"
      ]
     },
     "metadata": {
      "needs_background": "light"
     },
     "output_type": "display_data"
    },
    {
     "name": "stdout",
     "output_type": "stream",
     "text": [
      "graph for terrace: total = 2\n"
     ]
    },
    {
     "data": {
      "image/png": "[encoded data removed]",
      "text/plain": [
       "<Figure size 432x288 with 1 Axes>"
      ]
     },
     "metadata": {
      "needs_background": "light"
     },
     "output_type": "display_data"
    },
    {
     "name": "stdout",
     "output_type": "stream",
     "text": [
      "graph for garden: total = 2\n"
     ]
    },
    {
     "data": {
      "image/png": "[encoded data removed]",
      "text/plain": [
       "<Figure size 432x288 with 1 Axes>"
      ]
     },
     "metadata": {
      "needs_background": "light"
     },
     "output_type": "display_data"
    }
   ],
   "source": [
    "#make a barplot of numbers of apartments in each category\n",
    "for i in df_cat.columns:\n",
    "    cat_num = df_cat[i].value_counts()\n",
    "    print(\"graph for %s: total = %d\" % (i, len(cat_num)))\n",
    "    chart = sns.barplot(x=cat_num.index, y=cat_num)\n",
    "    plt.xticks(rotation=90)\n",
    "    plt.show()"
   ]
  },
  {
   "cell_type": "code",
   "execution_count": 25,
   "metadata": {},
   "outputs": [
    {
     "data": {
      "text/html": [
       "<div>\n",
       "<style scoped>\n",
       "    .dataframe tbody tr th:only-of-type {\n",
       "        vertical-align: middle;\n",
       "    }\n",
       "\n",
       "    .dataframe tbody tr th {\n",
       "        vertical-align: top;\n",
       "    }\n",
       "\n",
       "    .dataframe thead th {\n",
       "        text-align: right;\n",
       "    }\n",
       "</style>\n",
       "<table border=\"1\" class=\"dataframe\">\n",
       "  <thead>\n",
       "    <tr style=\"text-align: right;\">\n",
       "      <th></th>\n",
       "      <th></th>\n",
       "      <th>price MP</th>\n",
       "    </tr>\n",
       "    <tr>\n",
       "      <th>Delegacion</th>\n",
       "      <th>colonia</th>\n",
       "      <th></th>\n",
       "    </tr>\n",
       "  </thead>\n",
       "  <tbody>\n",
       "    <tr>\n",
       "      <th rowspan=\"5\" valign=\"top\">Alvaro Obregón</th>\n",
       "      <th>Alcantarilla</th>\n",
       "      <td>5.498805</td>\n",
       "    </tr>\n",
       "    <tr>\n",
       "      <th>AlfonsoXIII</th>\n",
       "      <td>1.930185</td>\n",
       "    </tr>\n",
       "    <tr>\n",
       "      <th>AmpliaciónAlpes</th>\n",
       "      <td>9.984939</td>\n",
       "    </tr>\n",
       "    <tr>\n",
       "      <th>AmpliaciónLasAguilas</th>\n",
       "      <td>4.572065</td>\n",
       "    </tr>\n",
       "    <tr>\n",
       "      <th>Bellavista</th>\n",
       "      <td>1.413347</td>\n",
       "    </tr>\n",
       "    <tr>\n",
       "      <th>...</th>\n",
       "      <th>...</th>\n",
       "      <td>...</td>\n",
       "    </tr>\n",
       "    <tr>\n",
       "      <th rowspan=\"4\" valign=\"top\">Venustiano Carranza</th>\n",
       "      <th>Morelos</th>\n",
       "      <td>0.600472</td>\n",
       "    </tr>\n",
       "    <tr>\n",
       "      <th>NicolásBravo</th>\n",
       "      <td>1.165809</td>\n",
       "    </tr>\n",
       "    <tr>\n",
       "      <th>PopularRastro</th>\n",
       "      <td>1.312277</td>\n",
       "    </tr>\n",
       "    <tr>\n",
       "      <th>ValleGómez</th>\n",
       "      <td>1.300405</td>\n",
       "    </tr>\n",
       "    <tr>\n",
       "      <th>Xochimilco</th>\n",
       "      <th>Nativitas</th>\n",
       "      <td>0.413149</td>\n",
       "    </tr>\n",
       "  </tbody>\n",
       "</table>\n",
       "<p>244 rows × 1 columns</p>\n",
       "</div>"
      ],
      "text/plain": [
       "                                           price MP\n",
       "Delegacion           colonia                       \n",
       " Alvaro Obregón      Alcantarilla          5.498805\n",
       "                     AlfonsoXIII           1.930185\n",
       "                     AmpliaciónAlpes       9.984939\n",
       "                     AmpliaciónLasAguilas  4.572065\n",
       "                     Bellavista            1.413347\n",
       "...                                             ...\n",
       " Venustiano Carranza Morelos               0.600472\n",
       "                     NicolásBravo          1.165809\n",
       "                     PopularRastro         1.312277\n",
       "                     ValleGómez            1.300405\n",
       " Xochimilco          Nativitas             0.413149\n",
       "\n",
       "[244 rows x 1 columns]"
      ]
     },
     "execution_count": 25,
     "metadata": {},
     "output_type": "execute_result"
    }
   ],
   "source": [
    "#pivotable to see the prices in each delegacion\n",
    "pd.pivot_table(df, index = ['Delegacion','colonia'], values = 'price MP')"
   ]
  },
  {
   "cell_type": "code",
   "execution_count": 26,
   "metadata": {},
   "outputs": [],
   "source": [
    "#pivots to see the average price for each category\n",
    "df_pivots = df[['rooms', 'bathrooms', 'Delegacion', 'colonia', 'gym',\n",
    "       'pool', 'pet', 'garage', 'elevador', 'terrace', 'garden', 'price MP']]"
   ]
  },
  {
   "cell_type": "code",
   "execution_count": 27,
   "metadata": {},
   "outputs": [
    {
     "name": "stdout",
     "output_type": "stream",
     "text": [
      "rooms\n",
      "        price MP\n",
      "rooms           \n",
      "1.0     4.702140\n",
      "1.5     3.505934\n",
      "2.0     6.572537\n",
      "2.5    10.141431\n",
      "3.0    12.898698\n",
      "4.0    28.202160\n",
      "5.0    16.145481\n",
      "bathrooms\n",
      "            price MP\n",
      "bathrooms           \n",
      "1.0         2.526253\n",
      "2.0         7.235097\n",
      "3.0        18.175608\n",
      "4.0        26.514218\n",
      "5.0        35.618570\n",
      "Delegacion\n",
      "                          price MP\n",
      "Delegacion                        \n",
      " Alvaro Obregón           8.296354\n",
      " Azcapotzalco             1.816745\n",
      " Benito Juárez            4.666349\n",
      " Coyoacán                 3.762734\n",
      " Cuajimalpa de Morelos   16.671466\n",
      " Cuauhtémoc               5.716832\n",
      " Gustavo A. Madero        1.874416\n",
      " Iztacalco                1.424213\n",
      " Iztapalapa               0.803726\n",
      " La Magdalena Contreras   6.769095\n",
      " Miguel Hidalgo          17.491258\n",
      " Tlalpan                  7.040379\n",
      " Tláhuac                  0.560929\n",
      " Venustiano Carranza      1.273255\n",
      " Xochimilco               0.413149\n",
      "colonia\n",
      "                              price MP\n",
      "colonia                               \n",
      "8deAgosto                     3.904223\n",
      "Acacias                       4.506865\n",
      "Actipan                       4.982805\n",
      "AcueductodeGuadalupe          1.003615\n",
      "AdolfoLópezMateos             3.631348\n",
      "...                                ...\n",
      "ViejoEjidodeSantaUrsulaCoapa  3.666675\n",
      "VillaCoapa                    1.243974\n",
      "Xoco                          5.393539\n",
      "Xotepingo                     4.093872\n",
      "Zacahuitzco                   2.314414\n",
      "\n",
      "[227 rows x 1 columns]\n",
      "gym\n",
      "      price MP\n",
      "gym           \n",
      "0     8.205039\n",
      "1    13.061422\n",
      "pool\n",
      "       price MP\n",
      "pool           \n",
      "0      8.289375\n",
      "1     15.310532\n",
      "pet\n",
      "     price MP\n",
      "pet          \n",
      "0    9.647562\n",
      "1    9.080131\n",
      "garage\n",
      "        price MP\n",
      "garage          \n",
      "0       8.993009\n",
      "1       9.922058\n",
      "elevador\n",
      "          price MP\n",
      "elevador          \n",
      "0         9.512295\n",
      "1         9.874530\n",
      "terrace\n",
      "          price MP\n",
      "terrace           \n",
      "0         7.799786\n",
      "1        14.407469\n",
      "garden\n",
      "        price MP\n",
      "garden          \n",
      "0       9.902422\n",
      "1       8.957023\n",
      "price MP\n"
     ]
    },
    {
     "ename": "ValueError",
     "evalue": "Grouper for 'price MP' not 1-dimensional",
     "output_type": "error",
     "traceback": [
      "\u001b[0;31m---------------------------------------------------------------------------\u001b[0m",
      "\u001b[0;31mValueError\u001b[0m                                Traceback (most recent call last)",
      "\u001b[0;32m<ipython-input-27-854ae44293ec>\u001b[0m in \u001b[0;36m<module>\u001b[0;34m\u001b[0m\n\u001b[1;32m      1\u001b[0m \u001b[0;32mfor\u001b[0m \u001b[0mi\u001b[0m \u001b[0;32min\u001b[0m \u001b[0mdf_pivots\u001b[0m\u001b[0;34m.\u001b[0m\u001b[0mcolumns\u001b[0m\u001b[0;34m:\u001b[0m\u001b[0;34m\u001b[0m\u001b[0;34m\u001b[0m\u001b[0m\n\u001b[1;32m      2\u001b[0m     \u001b[0mprint\u001b[0m\u001b[0;34m(\u001b[0m\u001b[0mi\u001b[0m\u001b[0;34m)\u001b[0m\u001b[0;34m\u001b[0m\u001b[0;34m\u001b[0m\u001b[0m\n\u001b[0;32m----> 3\u001b[0;31m     \u001b[0mprint\u001b[0m\u001b[0;34m(\u001b[0m\u001b[0mpd\u001b[0m\u001b[0;34m.\u001b[0m\u001b[0mpivot_table\u001b[0m\u001b[0;34m(\u001b[0m\u001b[0mdf_pivots\u001b[0m\u001b[0;34m,\u001b[0m\u001b[0mindex\u001b[0m \u001b[0;34m=\u001b[0m \u001b[0mi\u001b[0m\u001b[0;34m,\u001b[0m \u001b[0mvalues\u001b[0m \u001b[0;34m=\u001b[0m \u001b[0;34m'price MP'\u001b[0m\u001b[0;34m)\u001b[0m\u001b[0;34m)\u001b[0m\u001b[0;31m#.sort_values('price MP', ascending=False)\u001b[0m\u001b[0;34m\u001b[0m\u001b[0;34m\u001b[0m\u001b[0m\n\u001b[0m",
      "\u001b[0;32m~/opt/anaconda3/lib/python3.8/site-packages/pandas/core/reshape/pivot.py\u001b[0m in \u001b[0;36mpivot_table\u001b[0;34m(data, values, index, columns, aggfunc, fill_value, margins, dropna, margins_name, observed)\u001b[0m\n\u001b[1;32m    109\u001b[0m         \u001b[0mvalues\u001b[0m \u001b[0;34m=\u001b[0m \u001b[0mlist\u001b[0m\u001b[0;34m(\u001b[0m\u001b[0mvalues\u001b[0m\u001b[0;34m)\u001b[0m\u001b[0;34m\u001b[0m\u001b[0;34m\u001b[0m\u001b[0m\n\u001b[1;32m    110\u001b[0m \u001b[0;34m\u001b[0m\u001b[0m\n\u001b[0;32m--> 111\u001b[0;31m     \u001b[0mgrouped\u001b[0m \u001b[0;34m=\u001b[0m \u001b[0mdata\u001b[0m\u001b[0;34m.\u001b[0m\u001b[0mgroupby\u001b[0m\u001b[0;34m(\u001b[0m\u001b[0mkeys\u001b[0m\u001b[0;34m,\u001b[0m \u001b[0mobserved\u001b[0m\u001b[0;34m=\u001b[0m\u001b[0mobserved\u001b[0m\u001b[0;34m)\u001b[0m\u001b[0;34m\u001b[0m\u001b[0;34m\u001b[0m\u001b[0m\n\u001b[0m\u001b[1;32m    112\u001b[0m     \u001b[0magged\u001b[0m \u001b[0;34m=\u001b[0m \u001b[0mgrouped\u001b[0m\u001b[0;34m.\u001b[0m\u001b[0magg\u001b[0m\u001b[0;34m(\u001b[0m\u001b[0maggfunc\u001b[0m\u001b[0;34m)\u001b[0m\u001b[0;34m\u001b[0m\u001b[0;34m\u001b[0m\u001b[0m\n\u001b[1;32m    113\u001b[0m     \u001b[0;32mif\u001b[0m \u001b[0mdropna\u001b[0m \u001b[0;32mand\u001b[0m \u001b[0misinstance\u001b[0m\u001b[0;34m(\u001b[0m\u001b[0magged\u001b[0m\u001b[0;34m,\u001b[0m \u001b[0mABCDataFrame\u001b[0m\u001b[0;34m)\u001b[0m \u001b[0;32mand\u001b[0m \u001b[0mlen\u001b[0m\u001b[0;34m(\u001b[0m\u001b[0magged\u001b[0m\u001b[0;34m.\u001b[0m\u001b[0mcolumns\u001b[0m\u001b[0;34m)\u001b[0m\u001b[0;34m:\u001b[0m\u001b[0;34m\u001b[0m\u001b[0;34m\u001b[0m\u001b[0m\n",
      "\u001b[0;32m~/opt/anaconda3/lib/python3.8/site-packages/pandas/core/frame.py\u001b[0m in \u001b[0;36mgroupby\u001b[0;34m(self, by, axis, level, as_index, sort, group_keys, squeeze, observed, dropna)\u001b[0m\n\u001b[1;32m   6509\u001b[0m         \u001b[0maxis\u001b[0m \u001b[0;34m=\u001b[0m \u001b[0mself\u001b[0m\u001b[0;34m.\u001b[0m\u001b[0m_get_axis_number\u001b[0m\u001b[0;34m(\u001b[0m\u001b[0maxis\u001b[0m\u001b[0;34m)\u001b[0m\u001b[0;34m\u001b[0m\u001b[0;34m\u001b[0m\u001b[0m\n\u001b[1;32m   6510\u001b[0m \u001b[0;34m\u001b[0m\u001b[0m\n\u001b[0;32m-> 6511\u001b[0;31m         return DataFrameGroupBy(\n\u001b[0m\u001b[1;32m   6512\u001b[0m             \u001b[0mobj\u001b[0m\u001b[0;34m=\u001b[0m\u001b[0mself\u001b[0m\u001b[0;34m,\u001b[0m\u001b[0;34m\u001b[0m\u001b[0;34m\u001b[0m\u001b[0m\n\u001b[1;32m   6513\u001b[0m             \u001b[0mkeys\u001b[0m\u001b[0;34m=\u001b[0m\u001b[0mby\u001b[0m\u001b[0;34m,\u001b[0m\u001b[0;34m\u001b[0m\u001b[0;34m\u001b[0m\u001b[0m\n",
      "\u001b[0;32m~/opt/anaconda3/lib/python3.8/site-packages/pandas/core/groupby/groupby.py\u001b[0m in \u001b[0;36m__init__\u001b[0;34m(self, obj, keys, axis, level, grouper, exclusions, selection, as_index, sort, group_keys, squeeze, observed, mutated, dropna)\u001b[0m\n\u001b[1;32m    523\u001b[0m             \u001b[0;32mfrom\u001b[0m \u001b[0mpandas\u001b[0m\u001b[0;34m.\u001b[0m\u001b[0mcore\u001b[0m\u001b[0;34m.\u001b[0m\u001b[0mgroupby\u001b[0m\u001b[0;34m.\u001b[0m\u001b[0mgrouper\u001b[0m \u001b[0;32mimport\u001b[0m \u001b[0mget_grouper\u001b[0m\u001b[0;34m\u001b[0m\u001b[0;34m\u001b[0m\u001b[0m\n\u001b[1;32m    524\u001b[0m \u001b[0;34m\u001b[0m\u001b[0m\n\u001b[0;32m--> 525\u001b[0;31m             grouper, exclusions, obj = get_grouper(\n\u001b[0m\u001b[1;32m    526\u001b[0m                 \u001b[0mobj\u001b[0m\u001b[0;34m,\u001b[0m\u001b[0;34m\u001b[0m\u001b[0;34m\u001b[0m\u001b[0m\n\u001b[1;32m    527\u001b[0m                 \u001b[0mkeys\u001b[0m\u001b[0;34m,\u001b[0m\u001b[0;34m\u001b[0m\u001b[0;34m\u001b[0m\u001b[0m\n",
      "\u001b[0;32m~/opt/anaconda3/lib/python3.8/site-packages/pandas/core/groupby/grouper.py\u001b[0m in \u001b[0;36mget_grouper\u001b[0;34m(obj, key, axis, level, sort, observed, mutated, validate, dropna)\u001b[0m\n\u001b[1;32m    796\u001b[0m         \u001b[0;31m# allow us to passing the actual Grouping as the gpr\u001b[0m\u001b[0;34m\u001b[0m\u001b[0;34m\u001b[0m\u001b[0;34m\u001b[0m\u001b[0m\n\u001b[1;32m    797\u001b[0m         ping = (\n\u001b[0;32m--> 798\u001b[0;31m             Grouping(\n\u001b[0m\u001b[1;32m    799\u001b[0m                 \u001b[0mgroup_axis\u001b[0m\u001b[0;34m,\u001b[0m\u001b[0;34m\u001b[0m\u001b[0;34m\u001b[0m\u001b[0m\n\u001b[1;32m    800\u001b[0m                 \u001b[0mgpr\u001b[0m\u001b[0;34m,\u001b[0m\u001b[0;34m\u001b[0m\u001b[0;34m\u001b[0m\u001b[0m\n",
      "\u001b[0;32m~/opt/anaconda3/lib/python3.8/site-packages/pandas/core/groupby/grouper.py\u001b[0m in \u001b[0;36m__init__\u001b[0;34m(self, index, grouper, obj, name, level, sort, observed, in_axis, dropna)\u001b[0m\n\u001b[1;32m    515\u001b[0m                 \u001b[0;32mif\u001b[0m \u001b[0mgetattr\u001b[0m\u001b[0;34m(\u001b[0m\u001b[0mself\u001b[0m\u001b[0;34m.\u001b[0m\u001b[0mgrouper\u001b[0m\u001b[0;34m,\u001b[0m \u001b[0;34m\"ndim\"\u001b[0m\u001b[0;34m,\u001b[0m \u001b[0;36m1\u001b[0m\u001b[0;34m)\u001b[0m \u001b[0;34m!=\u001b[0m \u001b[0;36m1\u001b[0m\u001b[0;34m:\u001b[0m\u001b[0;34m\u001b[0m\u001b[0;34m\u001b[0m\u001b[0m\n\u001b[1;32m    516\u001b[0m                     \u001b[0mt\u001b[0m \u001b[0;34m=\u001b[0m \u001b[0mself\u001b[0m\u001b[0;34m.\u001b[0m\u001b[0mname\u001b[0m \u001b[0;32mor\u001b[0m \u001b[0mstr\u001b[0m\u001b[0;34m(\u001b[0m\u001b[0mtype\u001b[0m\u001b[0;34m(\u001b[0m\u001b[0mself\u001b[0m\u001b[0;34m.\u001b[0m\u001b[0mgrouper\u001b[0m\u001b[0;34m)\u001b[0m\u001b[0;34m)\u001b[0m\u001b[0;34m\u001b[0m\u001b[0;34m\u001b[0m\u001b[0m\n\u001b[0;32m--> 517\u001b[0;31m                     \u001b[0;32mraise\u001b[0m \u001b[0mValueError\u001b[0m\u001b[0;34m(\u001b[0m\u001b[0;34mf\"Grouper for '{t}' not 1-dimensional\"\u001b[0m\u001b[0;34m)\u001b[0m\u001b[0;34m\u001b[0m\u001b[0;34m\u001b[0m\u001b[0m\n\u001b[0m\u001b[1;32m    518\u001b[0m                 \u001b[0mself\u001b[0m\u001b[0;34m.\u001b[0m\u001b[0mgrouper\u001b[0m \u001b[0;34m=\u001b[0m \u001b[0mself\u001b[0m\u001b[0;34m.\u001b[0m\u001b[0mindex\u001b[0m\u001b[0;34m.\u001b[0m\u001b[0mmap\u001b[0m\u001b[0;34m(\u001b[0m\u001b[0mself\u001b[0m\u001b[0;34m.\u001b[0m\u001b[0mgrouper\u001b[0m\u001b[0;34m)\u001b[0m\u001b[0;34m\u001b[0m\u001b[0;34m\u001b[0m\u001b[0m\n\u001b[1;32m    519\u001b[0m                 if not (\n",
      "\u001b[0;31mValueError\u001b[0m: Grouper for 'price MP' not 1-dimensional"
     ]
    }
   ],
   "source": [
    "for i in df_pivots.columns:\n",
    "    print(i)\n",
    "    print(pd.pivot_table(df_pivots,index = i, values = 'price MP'))#.sort_values('price MP', ascending=False)"
   ]
  },
  {
   "cell_type": "code",
   "execution_count": 28,
   "metadata": {},
   "outputs": [
    {
     "data": {
      "text/html": [
       "<div>\n",
       "<style scoped>\n",
       "    .dataframe tbody tr th:only-of-type {\n",
       "        vertical-align: middle;\n",
       "    }\n",
       "\n",
       "    .dataframe tbody tr th {\n",
       "        vertical-align: top;\n",
       "    }\n",
       "\n",
       "    .dataframe thead th {\n",
       "        text-align: right;\n",
       "    }\n",
       "</style>\n",
       "<table border=\"1\" class=\"dataframe\">\n",
       "  <thead>\n",
       "    <tr style=\"text-align: right;\">\n",
       "      <th></th>\n",
       "      <th>Delegacion</th>\n",
       "      <th>price MP</th>\n",
       "    </tr>\n",
       "  </thead>\n",
       "  <tbody>\n",
       "    <tr>\n",
       "      <th>10</th>\n",
       "      <td>Miguel Hidalgo</td>\n",
       "      <td>14.000000</td>\n",
       "    </tr>\n",
       "    <tr>\n",
       "      <th>4</th>\n",
       "      <td>Cuajimalpa de Morelos</td>\n",
       "      <td>12.900000</td>\n",
       "    </tr>\n",
       "    <tr>\n",
       "      <th>9</th>\n",
       "      <td>La Magdalena Contreras</td>\n",
       "      <td>6.000000</td>\n",
       "    </tr>\n",
       "    <tr>\n",
       "      <th>0</th>\n",
       "      <td>Alvaro Obregón</td>\n",
       "      <td>5.750000</td>\n",
       "    </tr>\n",
       "    <tr>\n",
       "      <th>5</th>\n",
       "      <td>Cuauhtémoc</td>\n",
       "      <td>5.149000</td>\n",
       "    </tr>\n",
       "    <tr>\n",
       "      <th>11</th>\n",
       "      <td>Tlalpan</td>\n",
       "      <td>4.400000</td>\n",
       "    </tr>\n",
       "    <tr>\n",
       "      <th>2</th>\n",
       "      <td>Benito Juárez</td>\n",
       "      <td>4.350000</td>\n",
       "    </tr>\n",
       "    <tr>\n",
       "      <th>3</th>\n",
       "      <td>Coyoacán</td>\n",
       "      <td>3.090000</td>\n",
       "    </tr>\n",
       "    <tr>\n",
       "      <th>1</th>\n",
       "      <td>Azcapotzalco</td>\n",
       "      <td>1.800000</td>\n",
       "    </tr>\n",
       "    <tr>\n",
       "      <th>6</th>\n",
       "      <td>Gustavo A. Madero</td>\n",
       "      <td>1.690000</td>\n",
       "    </tr>\n",
       "    <tr>\n",
       "      <th>7</th>\n",
       "      <td>Iztacalco</td>\n",
       "      <td>1.380000</td>\n",
       "    </tr>\n",
       "    <tr>\n",
       "      <th>13</th>\n",
       "      <td>Venustiano Carranza</td>\n",
       "      <td>1.215000</td>\n",
       "    </tr>\n",
       "    <tr>\n",
       "      <th>8</th>\n",
       "      <td>Iztapalapa</td>\n",
       "      <td>0.610000</td>\n",
       "    </tr>\n",
       "    <tr>\n",
       "      <th>12</th>\n",
       "      <td>Tláhuac</td>\n",
       "      <td>0.520460</td>\n",
       "    </tr>\n",
       "    <tr>\n",
       "      <th>14</th>\n",
       "      <td>Xochimilco</td>\n",
       "      <td>0.413149</td>\n",
       "    </tr>\n",
       "  </tbody>\n",
       "</table>\n",
       "</div>"
      ],
      "text/plain": [
       "                 Delegacion   price MP\n",
       "10           Miguel Hidalgo  14.000000\n",
       "4     Cuajimalpa de Morelos  12.900000\n",
       "9    La Magdalena Contreras   6.000000\n",
       "0            Alvaro Obregón   5.750000\n",
       "5                Cuauhtémoc   5.149000\n",
       "11                  Tlalpan   4.400000\n",
       "2             Benito Juárez   4.350000\n",
       "3                  Coyoacán   3.090000\n",
       "1              Azcapotzalco   1.800000\n",
       "6         Gustavo A. Madero   1.690000\n",
       "7                 Iztacalco   1.380000\n",
       "13      Venustiano Carranza   1.215000\n",
       "8                Iztapalapa   0.610000\n",
       "12                  Tláhuac   0.520460\n",
       "14               Xochimilco   0.413149"
      ]
     },
     "execution_count": 28,
     "metadata": {},
     "output_type": "execute_result"
    }
   ],
   "source": [
    "#a look at median price per delegacio\n",
    "pricepd = df.groupby('Delegacion', as_index=False)['price MP'].median()\n",
    "pricepd = pricepd.sort_values(by=['price MP'], ascending=False)\n",
    "pricepd"
   ]
  },
  {
   "cell_type": "code",
   "execution_count": 29,
   "metadata": {},
   "outputs": [
    {
     "data": {
      "image/png": "[encoded data removed]",
      "text/plain": [
       "<Figure size 432x288 with 1 Axes>"
      ]
     },
     "metadata": {},
     "output_type": "display_data"
    }
   ],
   "source": [
    "#a graph of the mean price per delegacion\n",
    "sns.set_theme(style=\"whitegrid\")\n",
    "ax = sns.barplot(x = pricepd['Delegacion'], y=pricepd['price MP'])\n",
    "plt.ylabel('Precio MP')\n",
    "plt.xticks(rotation=90)\n",
    "plt.savefig('pricepd.png', dpi=300, bbox_inches='tight')"
   ]
  },
  {
   "cell_type": "code",
   "execution_count": 30,
   "metadata": {},
   "outputs": [
    {
     "data": {
      "text/html": [
       "<div>\n",
       "<style scoped>\n",
       "    .dataframe tbody tr th:only-of-type {\n",
       "        vertical-align: middle;\n",
       "    }\n",
       "\n",
       "    .dataframe tbody tr th {\n",
       "        vertical-align: top;\n",
       "    }\n",
       "\n",
       "    .dataframe thead th {\n",
       "        text-align: right;\n",
       "    }\n",
       "</style>\n",
       "<table border=\"1\" class=\"dataframe\">\n",
       "  <thead>\n",
       "    <tr style=\"text-align: right;\">\n",
       "      <th></th>\n",
       "      <th>colonia</th>\n",
       "      <th>price MP</th>\n",
       "    </tr>\n",
       "  </thead>\n",
       "  <tbody>\n",
       "    <tr>\n",
       "      <th>99</th>\n",
       "      <td>LomasAltas</td>\n",
       "      <td>55.935000</td>\n",
       "    </tr>\n",
       "    <tr>\n",
       "      <th>42</th>\n",
       "      <td>ClubdeGolfBosques</td>\n",
       "      <td>55.000000</td>\n",
       "    </tr>\n",
       "    <tr>\n",
       "      <th>106</th>\n",
       "      <td>LomasdeReforma</td>\n",
       "      <td>33.000000</td>\n",
       "    </tr>\n",
       "    <tr>\n",
       "      <th>32</th>\n",
       "      <td>BosquesdeChapultepec</td>\n",
       "      <td>30.800000</td>\n",
       "    </tr>\n",
       "    <tr>\n",
       "      <th>186</th>\n",
       "      <td>SanMateoTlaltenango</td>\n",
       "      <td>25.500000</td>\n",
       "    </tr>\n",
       "    <tr>\n",
       "      <th>...</th>\n",
       "      <td>...</td>\n",
       "      <td>...</td>\n",
       "    </tr>\n",
       "    <tr>\n",
       "      <th>188</th>\n",
       "      <td>SanNicolásTolentino</td>\n",
       "      <td>0.615658</td>\n",
       "    </tr>\n",
       "    <tr>\n",
       "      <th>165</th>\n",
       "      <td>PradosdelRosario</td>\n",
       "      <td>0.582376</td>\n",
       "    </tr>\n",
       "    <tr>\n",
       "      <th>94</th>\n",
       "      <td>LaPreciosa</td>\n",
       "      <td>0.556433</td>\n",
       "    </tr>\n",
       "    <tr>\n",
       "      <th>119</th>\n",
       "      <td>LosOlivos</td>\n",
       "      <td>0.520920</td>\n",
       "    </tr>\n",
       "    <tr>\n",
       "      <th>204</th>\n",
       "      <td>SantaMarthaAcatitla</td>\n",
       "      <td>0.476148</td>\n",
       "    </tr>\n",
       "  </tbody>\n",
       "</table>\n",
       "<p>227 rows × 2 columns</p>\n",
       "</div>"
      ],
      "text/plain": [
       "                  colonia   price MP\n",
       "99             LomasAltas  55.935000\n",
       "42      ClubdeGolfBosques  55.000000\n",
       "106        LomasdeReforma  33.000000\n",
       "32   BosquesdeChapultepec  30.800000\n",
       "186   SanMateoTlaltenango  25.500000\n",
       "..                    ...        ...\n",
       "188   SanNicolásTolentino   0.615658\n",
       "165      PradosdelRosario   0.582376\n",
       "94             LaPreciosa   0.556433\n",
       "119             LosOlivos   0.520920\n",
       "204   SantaMarthaAcatitla   0.476148\n",
       "\n",
       "[227 rows x 2 columns]"
      ]
     },
     "execution_count": 30,
     "metadata": {},
     "output_type": "execute_result"
    }
   ],
   "source": [
    "#price by colonia\n",
    "pricepc = df.groupby('colonia', as_index=False)['price MP'].median()\n",
    "pricepc.sort_values(by=['price MP'],ascending=False)"
   ]
  },
  {
   "cell_type": "code",
   "execution_count": 31,
   "metadata": {},
   "outputs": [
    {
     "data": {
      "image/png": "[encoded data removed]",
      "text/plain": [
       "<Figure size 432x288 with 1 Axes>"
      ]
     },
     "metadata": {},
     "output_type": "display_data"
    }
   ],
   "source": [
    "#plot of the more expensive colonias \n",
    "sns.barplot(x = pricepc.nlargest(15, 'price MP')['colonia'], \n",
    "            y = pricepc.nlargest(15, 'price MP')['price MP'])\n",
    "plt.xticks(rotation=90)\n",
    "plt.savefig('pricebcnl.png', dpi=300, bbox_inches='tight')"
   ]
  },
  {
   "cell_type": "code",
   "execution_count": 32,
   "metadata": {},
   "outputs": [
    {
     "data": {
      "image/png": "[encoded data removed]",
      "text/plain": [
       "<Figure size 432x288 with 1 Axes>"
      ]
     },
     "metadata": {},
     "output_type": "display_data"
    }
   ],
   "source": [
    "sns.barplot(x = pricepc.nsmallest(15, 'price MP')['colonia'], \n",
    "            y = pricepc.nsmallest(15, 'price MP')['price MP'])\n",
    "plt.xticks(rotation=90)\n",
    "plt.savefig('pricebcns.png', dpi=300, bbox_inches='tight')"
   ]
  },
  {
   "cell_type": "code",
   "execution_count": 33,
   "metadata": {},
   "outputs": [
    {
     "data": {
      "text/plain": [
       "<AxesSubplot:xlabel='construction (m2)', ylabel='price MP'>"
      ]
     },
     "execution_count": 33,
     "metadata": {},
     "output_type": "execute_result"
    },
    {
     "data": {
      "image/png": "[encoded data removed]",
      "text/plain": [
       "<Figure size 432x288 with 1 Axes>"
      ]
     },
     "metadata": {},
     "output_type": "display_data"
    }
   ],
   "source": [
    "sns.scatterplot(x=df['construction (m2)'], y=df['price MP'], alpha=0.5)"
   ]
  },
  {
   "cell_type": "code",
   "execution_count": 38,
   "metadata": {},
   "outputs": [
    {
     "data": {
      "image/png": "[encoded data removed]",
      "text/plain": [
       "<Figure size 360x360 with 1 Axes>"
      ]
     },
     "metadata": {},
     "output_type": "display_data"
    }
   ],
   "source": [
    "sns.displot(df['price MP'], color= 'red',kde=True)\n",
    "plt.savefig('distri.png', dpi=300, bbox_inches='tight')"
   ]
  },
  {
   "cell_type": "code",
   "execution_count": 90,
   "metadata": {},
   "outputs": [
    {
     "name": "stdout",
     "output_type": "stream",
     "text": [
      "Skewness: 3.577475\n",
      "Kurtosis: 18.356496\n"
     ]
    }
   ],
   "source": [
    "#skewness and kurtosis\n",
    "print(\"Skewness: %f\" % df['price MP'].skew())\n",
    "print(\"Kurtosis: %f\" % df['price MP'].kurt())"
   ]
  },
  {
   "cell_type": "code",
   "execution_count": null,
   "metadata": {},
   "outputs": [],
   "source": []
  }
 ],
 "metadata": {
  "colab": {
   "name": "eda_realestate.ipynb",
   "provenance": []
  },
  "kernelspec": {
   "display_name": "Python 3 (ipykernel)",
   "language": "python",
   "name": "python3"
  },
  "language_info": {
   "codemirror_mode": {
    "name": "ipython",
    "version": 3
   },
   "file_extension": ".py",
   "mimetype": "text/x-python",
   "name": "python",
   "nbconvert_exporter": "python",
   "pygments_lexer": "ipython3",
   "version": "3.8.13"
  }
 },
 "nbformat": 4,
 "nbformat_minor": 4
}
